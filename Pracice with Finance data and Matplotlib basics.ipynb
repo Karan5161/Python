{
  "nbformat": 4,
  "nbformat_minor": 0,
  "metadata": {
    "colab": {
      "name": "13-02-2021_FourthLecture.ipynb",
      "provenance": [],
      "collapsed_sections": []
    },
    "kernelspec": {
      "name": "python3",
      "display_name": "Python 3"
    }
  },
  "cells": [
    {
      "cell_type": "code",
      "metadata": {
        "id": "2uMhn0VK48kR"
      },
      "source": [
        "import numpy as np\r\n",
        "import pandas as pd\r\n",
        "import datetime\r\n",
        "import pandas_datareader.data as web"
      ],
      "execution_count": null,
      "outputs": []
    },
    {
      "cell_type": "code",
      "metadata": {
        "colab": {
          "base_uri": "https://localhost:8080/"
        },
        "id": "3Ltihp57di7E",
        "outputId": "c06ffa37-e0a2-4c62-f7f0-318cbef2f89c"
      },
      "source": [
        "from google.colab import drive\r\n",
        "drive.mount('/content/drive')"
      ],
      "execution_count": null,
      "outputs": [
        {
          "output_type": "stream",
          "text": [
            "Drive already mounted at /content/drive; to attempt to forcibly remount, call drive.mount(\"/content/drive\", force_remount=True).\n"
          ],
          "name": "stdout"
        }
      ]
    },
    {
      "cell_type": "code",
      "metadata": {
        "id": "yo7V8q77d9M0"
      },
      "source": [
        "start = datetime.datetime(2020,1,1)\r\n",
        "end = datetime.datetime(2020,12,1)"
      ],
      "execution_count": null,
      "outputs": []
    },
    {
      "cell_type": "code",
      "metadata": {
        "id": "h3DLAKxmfmJ_"
      },
      "source": [
        "import fix_yahoo_finance as yf"
      ],
      "execution_count": null,
      "outputs": []
    },
    {
      "cell_type": "code",
      "metadata": {
        "id": "c35j0fBjeP-g"
      },
      "source": [
        "# to get data directly from the web\r\n",
        "\r\n",
        "tesla = web.DataReader('TSLA', 'yahoo', start, end)\r\n",
        "ford = web.DataReader('F', 'yahoo', start, end)\r\n",
        "gm = web.DataReader('GM', 'yahoo', start, end)"
      ],
      "execution_count": null,
      "outputs": []
    },
    {
      "cell_type": "code",
      "metadata": {
        "id": "MX-Yx5BLe4B0"
      },
      "source": [
        "# using append function to join the dataframe\r\n",
        "\r\n",
        "new = tesla.append(ford)\r\n",
        "new = tesla.append(ford, ignore_index=True)"
      ],
      "execution_count": null,
      "outputs": []
    },
    {
      "cell_type": "code",
      "metadata": {
        "colab": {
          "base_uri": "https://localhost:8080/",
          "height": 202
        },
        "id": "9tXMtMElgDub",
        "outputId": "adeac1e5-3ed8-4511-bf98-a487b461c8e6"
      },
      "source": [
        "new.head(5)"
      ],
      "execution_count": null,
      "outputs": [
        {
          "output_type": "execute_result",
          "data": {
            "text/html": [
              "<div>\n",
              "<style scoped>\n",
              "    .dataframe tbody tr th:only-of-type {\n",
              "        vertical-align: middle;\n",
              "    }\n",
              "\n",
              "    .dataframe tbody tr th {\n",
              "        vertical-align: top;\n",
              "    }\n",
              "\n",
              "    .dataframe thead th {\n",
              "        text-align: right;\n",
              "    }\n",
              "</style>\n",
              "<table border=\"1\" class=\"dataframe\">\n",
              "  <thead>\n",
              "    <tr style=\"text-align: right;\">\n",
              "      <th></th>\n",
              "      <th>High</th>\n",
              "      <th>Low</th>\n",
              "      <th>Open</th>\n",
              "      <th>Close</th>\n",
              "      <th>Volume</th>\n",
              "      <th>Adj Close</th>\n",
              "    </tr>\n",
              "  </thead>\n",
              "  <tbody>\n",
              "    <tr>\n",
              "      <th>0</th>\n",
              "      <td>86.139999</td>\n",
              "      <td>84.342003</td>\n",
              "      <td>84.900002</td>\n",
              "      <td>86.052002</td>\n",
              "      <td>47660500.0</td>\n",
              "      <td>86.052002</td>\n",
              "    </tr>\n",
              "    <tr>\n",
              "      <th>1</th>\n",
              "      <td>90.800003</td>\n",
              "      <td>87.384003</td>\n",
              "      <td>88.099998</td>\n",
              "      <td>88.601997</td>\n",
              "      <td>88892500.0</td>\n",
              "      <td>88.601997</td>\n",
              "    </tr>\n",
              "    <tr>\n",
              "      <th>2</th>\n",
              "      <td>90.311996</td>\n",
              "      <td>88.000000</td>\n",
              "      <td>88.094002</td>\n",
              "      <td>90.307999</td>\n",
              "      <td>50665000.0</td>\n",
              "      <td>90.307999</td>\n",
              "    </tr>\n",
              "    <tr>\n",
              "      <th>3</th>\n",
              "      <td>94.325996</td>\n",
              "      <td>90.671997</td>\n",
              "      <td>92.279999</td>\n",
              "      <td>93.811996</td>\n",
              "      <td>89410500.0</td>\n",
              "      <td>93.811996</td>\n",
              "    </tr>\n",
              "    <tr>\n",
              "      <th>4</th>\n",
              "      <td>99.697998</td>\n",
              "      <td>93.646004</td>\n",
              "      <td>94.739998</td>\n",
              "      <td>98.428001</td>\n",
              "      <td>155721500.0</td>\n",
              "      <td>98.428001</td>\n",
              "    </tr>\n",
              "  </tbody>\n",
              "</table>\n",
              "</div>"
            ],
            "text/plain": [
              "        High        Low       Open      Close       Volume  Adj Close\n",
              "0  86.139999  84.342003  84.900002  86.052002   47660500.0  86.052002\n",
              "1  90.800003  87.384003  88.099998  88.601997   88892500.0  88.601997\n",
              "2  90.311996  88.000000  88.094002  90.307999   50665000.0  90.307999\n",
              "3  94.325996  90.671997  92.279999  93.811996   89410500.0  93.811996\n",
              "4  99.697998  93.646004  94.739998  98.428001  155721500.0  98.428001"
            ]
          },
          "metadata": {
            "tags": []
          },
          "execution_count": 119
        }
      ]
    },
    {
      "cell_type": "code",
      "metadata": {
        "id": "An2Ya9H_gd59"
      },
      "source": [
        "# concatinating the open proces of tesla, ford and gm\r\n",
        "\r\n",
        "car_comp = pd.concat([tesla[\"Open\"], gm[\"Open\"], ford[\"Open\"]], axis =1,keys=['TSLA', 'GM', 'F'])"
      ],
      "execution_count": null,
      "outputs": []
    },
    {
      "cell_type": "code",
      "metadata": {
        "id": "KAYuIvyRuZXQ"
      },
      "source": [
        "car_comp = pd.concat([tesla,gm, ford], axis=1, keys=['TSLA', 'GM', 'F'])"
      ],
      "execution_count": null,
      "outputs": []
    },
    {
      "cell_type": "code",
      "metadata": {
        "colab": {
          "base_uri": "https://localhost:8080/",
          "height": 446
        },
        "id": "h19_h3uGvVoJ",
        "outputId": "514b7e55-6f42-40f1-c02b-c9611f2db2eb"
      },
      "source": [
        "car_comp['TSLA']"
      ],
      "execution_count": null,
      "outputs": [
        {
          "output_type": "execute_result",
          "data": {
            "text/html": [
              "<div>\n",
              "<style scoped>\n",
              "    .dataframe tbody tr th:only-of-type {\n",
              "        vertical-align: middle;\n",
              "    }\n",
              "\n",
              "    .dataframe tbody tr th {\n",
              "        vertical-align: top;\n",
              "    }\n",
              "\n",
              "    .dataframe thead th {\n",
              "        text-align: right;\n",
              "    }\n",
              "</style>\n",
              "<table border=\"1\" class=\"dataframe\">\n",
              "  <thead>\n",
              "    <tr style=\"text-align: right;\">\n",
              "      <th></th>\n",
              "      <th>High</th>\n",
              "      <th>Low</th>\n",
              "      <th>Open</th>\n",
              "      <th>Close</th>\n",
              "      <th>Volume</th>\n",
              "      <th>Adj Close</th>\n",
              "    </tr>\n",
              "    <tr>\n",
              "      <th>Date</th>\n",
              "      <th></th>\n",
              "      <th></th>\n",
              "      <th></th>\n",
              "      <th></th>\n",
              "      <th></th>\n",
              "      <th></th>\n",
              "    </tr>\n",
              "  </thead>\n",
              "  <tbody>\n",
              "    <tr>\n",
              "      <th>2020-01-02</th>\n",
              "      <td>86.139999</td>\n",
              "      <td>84.342003</td>\n",
              "      <td>84.900002</td>\n",
              "      <td>86.052002</td>\n",
              "      <td>47660500.0</td>\n",
              "      <td>86.052002</td>\n",
              "    </tr>\n",
              "    <tr>\n",
              "      <th>2020-01-03</th>\n",
              "      <td>90.800003</td>\n",
              "      <td>87.384003</td>\n",
              "      <td>88.099998</td>\n",
              "      <td>88.601997</td>\n",
              "      <td>88892500.0</td>\n",
              "      <td>88.601997</td>\n",
              "    </tr>\n",
              "    <tr>\n",
              "      <th>2020-01-06</th>\n",
              "      <td>90.311996</td>\n",
              "      <td>88.000000</td>\n",
              "      <td>88.094002</td>\n",
              "      <td>90.307999</td>\n",
              "      <td>50665000.0</td>\n",
              "      <td>90.307999</td>\n",
              "    </tr>\n",
              "    <tr>\n",
              "      <th>2020-01-07</th>\n",
              "      <td>94.325996</td>\n",
              "      <td>90.671997</td>\n",
              "      <td>92.279999</td>\n",
              "      <td>93.811996</td>\n",
              "      <td>89410500.0</td>\n",
              "      <td>93.811996</td>\n",
              "    </tr>\n",
              "    <tr>\n",
              "      <th>2020-01-08</th>\n",
              "      <td>99.697998</td>\n",
              "      <td>93.646004</td>\n",
              "      <td>94.739998</td>\n",
              "      <td>98.428001</td>\n",
              "      <td>155721500.0</td>\n",
              "      <td>98.428001</td>\n",
              "    </tr>\n",
              "    <tr>\n",
              "      <th>...</th>\n",
              "      <td>...</td>\n",
              "      <td>...</td>\n",
              "      <td>...</td>\n",
              "      <td>...</td>\n",
              "      <td>...</td>\n",
              "      <td>...</td>\n",
              "    </tr>\n",
              "    <tr>\n",
              "      <th>2020-11-24</th>\n",
              "      <td>559.989990</td>\n",
              "      <td>526.200012</td>\n",
              "      <td>540.400024</td>\n",
              "      <td>555.380005</td>\n",
              "      <td>53648500.0</td>\n",
              "      <td>555.380005</td>\n",
              "    </tr>\n",
              "    <tr>\n",
              "      <th>2020-11-25</th>\n",
              "      <td>574.000000</td>\n",
              "      <td>545.369995</td>\n",
              "      <td>550.059998</td>\n",
              "      <td>574.000000</td>\n",
              "      <td>48930200.0</td>\n",
              "      <td>574.000000</td>\n",
              "    </tr>\n",
              "    <tr>\n",
              "      <th>2020-11-27</th>\n",
              "      <td>598.780029</td>\n",
              "      <td>578.450012</td>\n",
              "      <td>581.159973</td>\n",
              "      <td>585.760010</td>\n",
              "      <td>37561100.0</td>\n",
              "      <td>585.760010</td>\n",
              "    </tr>\n",
              "    <tr>\n",
              "      <th>2020-11-30</th>\n",
              "      <td>607.799988</td>\n",
              "      <td>554.510010</td>\n",
              "      <td>602.210022</td>\n",
              "      <td>567.599976</td>\n",
              "      <td>63003100.0</td>\n",
              "      <td>567.599976</td>\n",
              "    </tr>\n",
              "    <tr>\n",
              "      <th>2020-12-01</th>\n",
              "      <td>597.849976</td>\n",
              "      <td>572.049988</td>\n",
              "      <td>597.590027</td>\n",
              "      <td>584.760010</td>\n",
              "      <td>40382800.0</td>\n",
              "      <td>584.760010</td>\n",
              "    </tr>\n",
              "  </tbody>\n",
              "</table>\n",
              "<p>232 rows × 6 columns</p>\n",
              "</div>"
            ],
            "text/plain": [
              "                  High         Low  ...       Volume   Adj Close\n",
              "Date                                ...                         \n",
              "2020-01-02   86.139999   84.342003  ...   47660500.0   86.052002\n",
              "2020-01-03   90.800003   87.384003  ...   88892500.0   88.601997\n",
              "2020-01-06   90.311996   88.000000  ...   50665000.0   90.307999\n",
              "2020-01-07   94.325996   90.671997  ...   89410500.0   93.811996\n",
              "2020-01-08   99.697998   93.646004  ...  155721500.0   98.428001\n",
              "...                ...         ...  ...          ...         ...\n",
              "2020-11-24  559.989990  526.200012  ...   53648500.0  555.380005\n",
              "2020-11-25  574.000000  545.369995  ...   48930200.0  574.000000\n",
              "2020-11-27  598.780029  578.450012  ...   37561100.0  585.760010\n",
              "2020-11-30  607.799988  554.510010  ...   63003100.0  567.599976\n",
              "2020-12-01  597.849976  572.049988  ...   40382800.0  584.760010\n",
              "\n",
              "[232 rows x 6 columns]"
            ]
          },
          "metadata": {
            "tags": []
          },
          "execution_count": 122
        }
      ]
    },
    {
      "cell_type": "code",
      "metadata": {
        "colab": {
          "base_uri": "https://localhost:8080/"
        },
        "id": "vKMvVCHPvdNe",
        "outputId": "d4d8fb5d-c3ec-4ea3-ab51-2c7aa59683d4"
      },
      "source": [
        "\r\n",
        "car_comp = pd.concat([tesla[\"Open\"], gm[\"Open\"], ford[\"Open\"]],keys=['TSLA', 'GM', 'F'])\r\n",
        "car_comp.head(5)"
      ],
      "execution_count": null,
      "outputs": [
        {
          "output_type": "execute_result",
          "data": {
            "text/plain": [
              "      Date      \n",
              "TSLA  2020-01-02    84.900002\n",
              "      2020-01-03    88.099998\n",
              "      2020-01-06    88.094002\n",
              "      2020-01-07    92.279999\n",
              "      2020-01-08    94.739998\n",
              "Name: Open, dtype: float64"
            ]
          },
          "metadata": {
            "tags": []
          },
          "execution_count": 123
        }
      ]
    },
    {
      "cell_type": "code",
      "metadata": {
        "colab": {
          "base_uri": "https://localhost:8080/",
          "height": 233
        },
        "id": "tBWFnjHOhfkf",
        "outputId": "99169284-a3f5-409e-ddaf-740dd14ba7c2"
      },
      "source": [
        "tesla['Returns']=tesla['Close'].pct_change()\r\n",
        "tesla.head(5)"
      ],
      "execution_count": null,
      "outputs": [
        {
          "output_type": "execute_result",
          "data": {
            "text/html": [
              "<div>\n",
              "<style scoped>\n",
              "    .dataframe tbody tr th:only-of-type {\n",
              "        vertical-align: middle;\n",
              "    }\n",
              "\n",
              "    .dataframe tbody tr th {\n",
              "        vertical-align: top;\n",
              "    }\n",
              "\n",
              "    .dataframe thead th {\n",
              "        text-align: right;\n",
              "    }\n",
              "</style>\n",
              "<table border=\"1\" class=\"dataframe\">\n",
              "  <thead>\n",
              "    <tr style=\"text-align: right;\">\n",
              "      <th></th>\n",
              "      <th>High</th>\n",
              "      <th>Low</th>\n",
              "      <th>Open</th>\n",
              "      <th>Close</th>\n",
              "      <th>Volume</th>\n",
              "      <th>Adj Close</th>\n",
              "      <th>Returns</th>\n",
              "    </tr>\n",
              "    <tr>\n",
              "      <th>Date</th>\n",
              "      <th></th>\n",
              "      <th></th>\n",
              "      <th></th>\n",
              "      <th></th>\n",
              "      <th></th>\n",
              "      <th></th>\n",
              "      <th></th>\n",
              "    </tr>\n",
              "  </thead>\n",
              "  <tbody>\n",
              "    <tr>\n",
              "      <th>2020-01-02</th>\n",
              "      <td>86.139999</td>\n",
              "      <td>84.342003</td>\n",
              "      <td>84.900002</td>\n",
              "      <td>86.052002</td>\n",
              "      <td>47660500.0</td>\n",
              "      <td>86.052002</td>\n",
              "      <td>NaN</td>\n",
              "    </tr>\n",
              "    <tr>\n",
              "      <th>2020-01-03</th>\n",
              "      <td>90.800003</td>\n",
              "      <td>87.384003</td>\n",
              "      <td>88.099998</td>\n",
              "      <td>88.601997</td>\n",
              "      <td>88892500.0</td>\n",
              "      <td>88.601997</td>\n",
              "      <td>0.029633</td>\n",
              "    </tr>\n",
              "    <tr>\n",
              "      <th>2020-01-06</th>\n",
              "      <td>90.311996</td>\n",
              "      <td>88.000000</td>\n",
              "      <td>88.094002</td>\n",
              "      <td>90.307999</td>\n",
              "      <td>50665000.0</td>\n",
              "      <td>90.307999</td>\n",
              "      <td>0.019255</td>\n",
              "    </tr>\n",
              "    <tr>\n",
              "      <th>2020-01-07</th>\n",
              "      <td>94.325996</td>\n",
              "      <td>90.671997</td>\n",
              "      <td>92.279999</td>\n",
              "      <td>93.811996</td>\n",
              "      <td>89410500.0</td>\n",
              "      <td>93.811996</td>\n",
              "      <td>0.038801</td>\n",
              "    </tr>\n",
              "    <tr>\n",
              "      <th>2020-01-08</th>\n",
              "      <td>99.697998</td>\n",
              "      <td>93.646004</td>\n",
              "      <td>94.739998</td>\n",
              "      <td>98.428001</td>\n",
              "      <td>155721500.0</td>\n",
              "      <td>98.428001</td>\n",
              "      <td>0.049205</td>\n",
              "    </tr>\n",
              "  </tbody>\n",
              "</table>\n",
              "</div>"
            ],
            "text/plain": [
              "                 High        Low       Open  ...       Volume  Adj Close   Returns\n",
              "Date                                         ...                                  \n",
              "2020-01-02  86.139999  84.342003  84.900002  ...   47660500.0  86.052002       NaN\n",
              "2020-01-03  90.800003  87.384003  88.099998  ...   88892500.0  88.601997  0.029633\n",
              "2020-01-06  90.311996  88.000000  88.094002  ...   50665000.0  90.307999  0.019255\n",
              "2020-01-07  94.325996  90.671997  92.279999  ...   89410500.0  93.811996  0.038801\n",
              "2020-01-08  99.697998  93.646004  94.739998  ...  155721500.0  98.428001  0.049205\n",
              "\n",
              "[5 rows x 7 columns]"
            ]
          },
          "metadata": {
            "tags": []
          },
          "execution_count": 124
        }
      ]
    },
    {
      "cell_type": "code",
      "metadata": {
        "colab": {
          "base_uri": "https://localhost:8080/"
        },
        "id": "24aK5F4AiT2K",
        "outputId": "b7b02e36-b0b1-43da-c614-6270e84252b0"
      },
      "source": [
        "car_comp = car_comp.pct_change(1)\r\n",
        "car_comp"
      ],
      "execution_count": null,
      "outputs": [
        {
          "output_type": "execute_result",
          "data": {
            "text/plain": [
              "      Date      \n",
              "TSLA  2020-01-02         NaN\n",
              "      2020-01-03    0.037691\n",
              "      2020-01-06   -0.000068\n",
              "      2020-01-07    0.047517\n",
              "      2020-01-08    0.026658\n",
              "                      ...   \n",
              "F     2020-11-24    0.037415\n",
              "      2020-11-25    0.005465\n",
              "      2020-11-27   -0.008696\n",
              "      2020-11-30    0.012061\n",
              "      2020-12-01   -0.007584\n",
              "Name: Open, Length: 696, dtype: float64"
            ]
          },
          "metadata": {
            "tags": []
          },
          "execution_count": 125
        }
      ]
    },
    {
      "cell_type": "code",
      "metadata": {
        "id": "5iiu-vfbiuHg"
      },
      "source": [
        "tesla['Company'] = 'Tesla'\r\n",
        "ford['Company'] = 'Ford'\r\n",
        "gm['Company'] = 'GM'"
      ],
      "execution_count": null,
      "outputs": []
    },
    {
      "cell_type": "code",
      "metadata": {
        "colab": {
          "base_uri": "https://localhost:8080/",
          "height": 446
        },
        "id": "bIfpurxzjbFM",
        "outputId": "2c06b485-f790-4818-cb12-9041b153bcda"
      },
      "source": [
        "car_comp = pd.concat([tesla[['Company', \"Open\"]], gm[['Company',\"Open\"]], ford[['Company', \"Open\"]]])\r\n",
        "car_comp"
      ],
      "execution_count": null,
      "outputs": [
        {
          "output_type": "execute_result",
          "data": {
            "text/html": [
              "<div>\n",
              "<style scoped>\n",
              "    .dataframe tbody tr th:only-of-type {\n",
              "        vertical-align: middle;\n",
              "    }\n",
              "\n",
              "    .dataframe tbody tr th {\n",
              "        vertical-align: top;\n",
              "    }\n",
              "\n",
              "    .dataframe thead th {\n",
              "        text-align: right;\n",
              "    }\n",
              "</style>\n",
              "<table border=\"1\" class=\"dataframe\">\n",
              "  <thead>\n",
              "    <tr style=\"text-align: right;\">\n",
              "      <th></th>\n",
              "      <th>Company</th>\n",
              "      <th>Open</th>\n",
              "    </tr>\n",
              "    <tr>\n",
              "      <th>Date</th>\n",
              "      <th></th>\n",
              "      <th></th>\n",
              "    </tr>\n",
              "  </thead>\n",
              "  <tbody>\n",
              "    <tr>\n",
              "      <th>2020-01-02</th>\n",
              "      <td>Tesla</td>\n",
              "      <td>84.900002</td>\n",
              "    </tr>\n",
              "    <tr>\n",
              "      <th>2020-01-03</th>\n",
              "      <td>Tesla</td>\n",
              "      <td>88.099998</td>\n",
              "    </tr>\n",
              "    <tr>\n",
              "      <th>2020-01-06</th>\n",
              "      <td>Tesla</td>\n",
              "      <td>88.094002</td>\n",
              "    </tr>\n",
              "    <tr>\n",
              "      <th>2020-01-07</th>\n",
              "      <td>Tesla</td>\n",
              "      <td>92.279999</td>\n",
              "    </tr>\n",
              "    <tr>\n",
              "      <th>2020-01-08</th>\n",
              "      <td>Tesla</td>\n",
              "      <td>94.739998</td>\n",
              "    </tr>\n",
              "    <tr>\n",
              "      <th>...</th>\n",
              "      <td>...</td>\n",
              "      <td>...</td>\n",
              "    </tr>\n",
              "    <tr>\n",
              "      <th>2020-11-24</th>\n",
              "      <td>Ford</td>\n",
              "      <td>9.150000</td>\n",
              "    </tr>\n",
              "    <tr>\n",
              "      <th>2020-11-25</th>\n",
              "      <td>Ford</td>\n",
              "      <td>9.200000</td>\n",
              "    </tr>\n",
              "    <tr>\n",
              "      <th>2020-11-27</th>\n",
              "      <td>Ford</td>\n",
              "      <td>9.120000</td>\n",
              "    </tr>\n",
              "    <tr>\n",
              "      <th>2020-11-30</th>\n",
              "      <td>Ford</td>\n",
              "      <td>9.230000</td>\n",
              "    </tr>\n",
              "    <tr>\n",
              "      <th>2020-12-01</th>\n",
              "      <td>Ford</td>\n",
              "      <td>9.160000</td>\n",
              "    </tr>\n",
              "  </tbody>\n",
              "</table>\n",
              "<p>696 rows × 2 columns</p>\n",
              "</div>"
            ],
            "text/plain": [
              "           Company       Open\n",
              "Date                         \n",
              "2020-01-02   Tesla  84.900002\n",
              "2020-01-03   Tesla  88.099998\n",
              "2020-01-06   Tesla  88.094002\n",
              "2020-01-07   Tesla  92.279999\n",
              "2020-01-08   Tesla  94.739998\n",
              "...            ...        ...\n",
              "2020-11-24    Ford   9.150000\n",
              "2020-11-25    Ford   9.200000\n",
              "2020-11-27    Ford   9.120000\n",
              "2020-11-30    Ford   9.230000\n",
              "2020-12-01    Ford   9.160000\n",
              "\n",
              "[696 rows x 2 columns]"
            ]
          },
          "metadata": {
            "tags": []
          },
          "execution_count": 127
        }
      ]
    },
    {
      "cell_type": "code",
      "metadata": {
        "colab": {
          "base_uri": "https://localhost:8080/",
          "height": 446
        },
        "id": "JAaghC_znUnx",
        "outputId": "570b21e6-54db-4032-c553-e5248aace9e5"
      },
      "source": [
        "# merging the dataframe tesla and gm with 'OPEN' column\r\n",
        "\r\n",
        "car_compnew = pd.merge(tesla[\"Open\"], gm[\"Open\"], left_index=True, right_index=True, suffixes=(\"_tesla\", \"_gm\"), how='inner')\r\n",
        "car_compnew"
      ],
      "execution_count": null,
      "outputs": [
        {
          "output_type": "execute_result",
          "data": {
            "text/html": [
              "<div>\n",
              "<style scoped>\n",
              "    .dataframe tbody tr th:only-of-type {\n",
              "        vertical-align: middle;\n",
              "    }\n",
              "\n",
              "    .dataframe tbody tr th {\n",
              "        vertical-align: top;\n",
              "    }\n",
              "\n",
              "    .dataframe thead th {\n",
              "        text-align: right;\n",
              "    }\n",
              "</style>\n",
              "<table border=\"1\" class=\"dataframe\">\n",
              "  <thead>\n",
              "    <tr style=\"text-align: right;\">\n",
              "      <th></th>\n",
              "      <th>Open_tesla</th>\n",
              "      <th>Open_gm</th>\n",
              "    </tr>\n",
              "    <tr>\n",
              "      <th>Date</th>\n",
              "      <th></th>\n",
              "      <th></th>\n",
              "    </tr>\n",
              "  </thead>\n",
              "  <tbody>\n",
              "    <tr>\n",
              "      <th>2020-01-02</th>\n",
              "      <td>84.900002</td>\n",
              "      <td>37.000000</td>\n",
              "    </tr>\n",
              "    <tr>\n",
              "      <th>2020-01-03</th>\n",
              "      <td>88.099998</td>\n",
              "      <td>36.730000</td>\n",
              "    </tr>\n",
              "    <tr>\n",
              "      <th>2020-01-06</th>\n",
              "      <td>88.094002</td>\n",
              "      <td>35.950001</td>\n",
              "    </tr>\n",
              "    <tr>\n",
              "      <th>2020-01-07</th>\n",
              "      <td>92.279999</td>\n",
              "      <td>35.750000</td>\n",
              "    </tr>\n",
              "    <tr>\n",
              "      <th>2020-01-08</th>\n",
              "      <td>94.739998</td>\n",
              "      <td>35.040001</td>\n",
              "    </tr>\n",
              "    <tr>\n",
              "      <th>...</th>\n",
              "      <td>...</td>\n",
              "      <td>...</td>\n",
              "    </tr>\n",
              "    <tr>\n",
              "      <th>2020-11-24</th>\n",
              "      <td>540.400024</td>\n",
              "      <td>45.910000</td>\n",
              "    </tr>\n",
              "    <tr>\n",
              "      <th>2020-11-25</th>\n",
              "      <td>550.059998</td>\n",
              "      <td>45.610001</td>\n",
              "    </tr>\n",
              "    <tr>\n",
              "      <th>2020-11-27</th>\n",
              "      <td>581.159973</td>\n",
              "      <td>45.349998</td>\n",
              "    </tr>\n",
              "    <tr>\n",
              "      <th>2020-11-30</th>\n",
              "      <td>602.210022</td>\n",
              "      <td>44.959999</td>\n",
              "    </tr>\n",
              "    <tr>\n",
              "      <th>2020-12-01</th>\n",
              "      <td>597.590027</td>\n",
              "      <td>44.779999</td>\n",
              "    </tr>\n",
              "  </tbody>\n",
              "</table>\n",
              "<p>232 rows × 2 columns</p>\n",
              "</div>"
            ],
            "text/plain": [
              "            Open_tesla    Open_gm\n",
              "Date                             \n",
              "2020-01-02   84.900002  37.000000\n",
              "2020-01-03   88.099998  36.730000\n",
              "2020-01-06   88.094002  35.950001\n",
              "2020-01-07   92.279999  35.750000\n",
              "2020-01-08   94.739998  35.040001\n",
              "...                ...        ...\n",
              "2020-11-24  540.400024  45.910000\n",
              "2020-11-25  550.059998  45.610001\n",
              "2020-11-27  581.159973  45.349998\n",
              "2020-11-30  602.210022  44.959999\n",
              "2020-12-01  597.590027  44.779999\n",
              "\n",
              "[232 rows x 2 columns]"
            ]
          },
          "metadata": {
            "tags": []
          },
          "execution_count": 128
        }
      ]
    },
    {
      "cell_type": "code",
      "metadata": {
        "id": "IXtygyHtoUH5"
      },
      "source": [
        "info = pd.DataFrame([['Ford', 'Tesla', 'GM', 'Fiat'], ['Dearborn, Michigan', 'Palo Alto', 'Detroit, California, Michigan', 'Turin, Italy']])"
      ],
      "execution_count": null,
      "outputs": []
    },
    {
      "cell_type": "code",
      "metadata": {
        "colab": {
          "base_uri": "https://localhost:8080/",
          "height": 171
        },
        "id": "JdmFsUz5o91x",
        "outputId": "acd02f5a-78e6-4f53-a900-5d5f50fba8a0"
      },
      "source": [
        "info = info.T\r\n",
        "\r\n",
        "info.head(5)"
      ],
      "execution_count": null,
      "outputs": [
        {
          "output_type": "execute_result",
          "data": {
            "text/html": [
              "<div>\n",
              "<style scoped>\n",
              "    .dataframe tbody tr th:only-of-type {\n",
              "        vertical-align: middle;\n",
              "    }\n",
              "\n",
              "    .dataframe tbody tr th {\n",
              "        vertical-align: top;\n",
              "    }\n",
              "\n",
              "    .dataframe thead th {\n",
              "        text-align: right;\n",
              "    }\n",
              "</style>\n",
              "<table border=\"1\" class=\"dataframe\">\n",
              "  <thead>\n",
              "    <tr style=\"text-align: right;\">\n",
              "      <th></th>\n",
              "      <th>0</th>\n",
              "      <th>1</th>\n",
              "    </tr>\n",
              "  </thead>\n",
              "  <tbody>\n",
              "    <tr>\n",
              "      <th>0</th>\n",
              "      <td>Ford</td>\n",
              "      <td>Dearborn, Michigan</td>\n",
              "    </tr>\n",
              "    <tr>\n",
              "      <th>1</th>\n",
              "      <td>Tesla</td>\n",
              "      <td>Palo Alto</td>\n",
              "    </tr>\n",
              "    <tr>\n",
              "      <th>2</th>\n",
              "      <td>GM</td>\n",
              "      <td>Detroit, California, Michigan</td>\n",
              "    </tr>\n",
              "    <tr>\n",
              "      <th>3</th>\n",
              "      <td>Fiat</td>\n",
              "      <td>Turin, Italy</td>\n",
              "    </tr>\n",
              "  </tbody>\n",
              "</table>\n",
              "</div>"
            ],
            "text/plain": [
              "       0                              1\n",
              "0   Ford             Dearborn, Michigan\n",
              "1  Tesla                      Palo Alto\n",
              "2     GM  Detroit, California, Michigan\n",
              "3   Fiat                   Turin, Italy"
            ]
          },
          "metadata": {
            "tags": []
          },
          "execution_count": 130
        }
      ]
    },
    {
      "cell_type": "code",
      "metadata": {
        "id": "gGuRbyeCrADw"
      },
      "source": [
        "tesla['Profit'] = tesla['Close'] - tesla['Close'].shift(1)\r\n",
        "tesla['Profitable'] = tesla['Profit'] > 0\r\n",
        "tesla['Month'] = tesla.index.month\r\n",
        "tesla['Year'] = tesla.index.year"
      ],
      "execution_count": null,
      "outputs": []
    },
    {
      "cell_type": "code",
      "metadata": {
        "colab": {
          "base_uri": "https://localhost:8080/",
          "height": 287
        },
        "id": "dIefJjqWrqj7",
        "outputId": "c866c12b-df83-431c-d804-9bc1165fd853"
      },
      "source": [
        "df = tesla.groupby('Month')['Profit', 'Profitable'].mean()\r\n",
        "df.head(5)"
      ],
      "execution_count": null,
      "outputs": [
        {
          "output_type": "stream",
          "text": [
            "/usr/local/lib/python3.6/dist-packages/ipykernel_launcher.py:1: FutureWarning: Indexing with multiple keys (implicitly converted to a tuple of keys) will be deprecated, use a list instead.\n",
            "  \"\"\"Entry point for launching an IPython kernel.\n"
          ],
          "name": "stderr"
        },
        {
          "output_type": "execute_result",
          "data": {
            "text/html": [
              "<div>\n",
              "<style scoped>\n",
              "    .dataframe tbody tr th:only-of-type {\n",
              "        vertical-align: middle;\n",
              "    }\n",
              "\n",
              "    .dataframe tbody tr th {\n",
              "        vertical-align: top;\n",
              "    }\n",
              "\n",
              "    .dataframe thead th {\n",
              "        text-align: right;\n",
              "    }\n",
              "</style>\n",
              "<table border=\"1\" class=\"dataframe\">\n",
              "  <thead>\n",
              "    <tr style=\"text-align: right;\">\n",
              "      <th></th>\n",
              "      <th>Profit</th>\n",
              "      <th>Profitable</th>\n",
              "    </tr>\n",
              "    <tr>\n",
              "      <th>Month</th>\n",
              "      <th></th>\n",
              "      <th></th>\n",
              "    </tr>\n",
              "  </thead>\n",
              "  <tbody>\n",
              "    <tr>\n",
              "      <th>1</th>\n",
              "      <td>2.203100</td>\n",
              "      <td>0.619048</td>\n",
              "    </tr>\n",
              "    <tr>\n",
              "      <th>2</th>\n",
              "      <td>0.183369</td>\n",
              "      <td>0.473684</td>\n",
              "    </tr>\n",
              "    <tr>\n",
              "      <th>3</th>\n",
              "      <td>-1.309000</td>\n",
              "      <td>0.409091</td>\n",
              "    </tr>\n",
              "    <tr>\n",
              "      <th>4</th>\n",
              "      <td>2.456000</td>\n",
              "      <td>0.666667</td>\n",
              "    </tr>\n",
              "    <tr>\n",
              "      <th>5</th>\n",
              "      <td>0.531200</td>\n",
              "      <td>0.550000</td>\n",
              "    </tr>\n",
              "  </tbody>\n",
              "</table>\n",
              "</div>"
            ],
            "text/plain": [
              "         Profit  Profitable\n",
              "Month                      \n",
              "1      2.203100    0.619048\n",
              "2      0.183369    0.473684\n",
              "3     -1.309000    0.409091\n",
              "4      2.456000    0.666667\n",
              "5      0.531200    0.550000"
            ]
          },
          "metadata": {
            "tags": []
          },
          "execution_count": 132
        }
      ]
    },
    {
      "cell_type": "code",
      "metadata": {
        "colab": {
          "base_uri": "https://localhost:8080/"
        },
        "id": "ZlTHakmbrzO7",
        "outputId": "7755baf0-e5d2-43fa-902b-38bee39fe014"
      },
      "source": [
        "df = tesla.groupby('Month')['Close'].agg(lambda x:max(x)-min(x))\r\n",
        "df.head(5)"
      ],
      "execution_count": null,
      "outputs": [
        {
          "output_type": "execute_result",
          "data": {
            "text/plain": [
              "Month\n",
              "1    44.061996\n",
              "2    49.885986\n",
              "3    77.655991\n",
              "4    69.208008\n",
              "5    26.735992\n",
              "Name: Close, dtype: float64"
            ]
          },
          "metadata": {
            "tags": []
          },
          "execution_count": 133
        }
      ]
    },
    {
      "cell_type": "code",
      "metadata": {
        "colab": {
          "base_uri": "https://localhost:8080/"
        },
        "id": "D3bq6VEvrzY9",
        "outputId": "f0c347c4-d7a4-46bb-efd7-f8229a3675db"
      },
      "source": [
        "df = tesla.groupby(['Month', 'Year'])['Close'].agg(lambda x:max(x)-min(x))\r\n",
        "df.head(5)"
      ],
      "execution_count": null,
      "outputs": [
        {
          "output_type": "execute_result",
          "data": {
            "text/plain": [
              "Month  Year\n",
              "1      2020    44.061996\n",
              "2      2020    49.885986\n",
              "3      2020    77.655991\n",
              "4      2020    69.208008\n",
              "5      2020    26.735992\n",
              "Name: Close, dtype: float64"
            ]
          },
          "metadata": {
            "tags": []
          },
          "execution_count": 134
        }
      ]
    },
    {
      "cell_type": "code",
      "metadata": {
        "colab": {
          "base_uri": "https://localhost:8080/",
          "height": 110
        },
        "id": "0kqBpVV7rzeW",
        "outputId": "c4ed39b1-5bd5-4d4c-af69-b285774ca7a0"
      },
      "source": [
        "df = df.unstack(level = 0)\r\n",
        "df.head(5)"
      ],
      "execution_count": null,
      "outputs": [
        {
          "output_type": "execute_result",
          "data": {
            "text/html": [
              "<div>\n",
              "<style scoped>\n",
              "    .dataframe tbody tr th:only-of-type {\n",
              "        vertical-align: middle;\n",
              "    }\n",
              "\n",
              "    .dataframe tbody tr th {\n",
              "        vertical-align: top;\n",
              "    }\n",
              "\n",
              "    .dataframe thead th {\n",
              "        text-align: right;\n",
              "    }\n",
              "</style>\n",
              "<table border=\"1\" class=\"dataframe\">\n",
              "  <thead>\n",
              "    <tr style=\"text-align: right;\">\n",
              "      <th>Month</th>\n",
              "      <th>1</th>\n",
              "      <th>2</th>\n",
              "      <th>3</th>\n",
              "      <th>4</th>\n",
              "      <th>5</th>\n",
              "      <th>6</th>\n",
              "      <th>7</th>\n",
              "      <th>8</th>\n",
              "      <th>9</th>\n",
              "      <th>10</th>\n",
              "      <th>11</th>\n",
              "      <th>12</th>\n",
              "    </tr>\n",
              "    <tr>\n",
              "      <th>Year</th>\n",
              "      <th></th>\n",
              "      <th></th>\n",
              "      <th></th>\n",
              "      <th></th>\n",
              "      <th></th>\n",
              "      <th></th>\n",
              "      <th></th>\n",
              "      <th></th>\n",
              "      <th></th>\n",
              "      <th></th>\n",
              "      <th></th>\n",
              "      <th></th>\n",
              "    </tr>\n",
              "  </thead>\n",
              "  <tbody>\n",
              "    <tr>\n",
              "      <th>2020</th>\n",
              "      <td>44.061996</td>\n",
              "      <td>49.885986</td>\n",
              "      <td>77.655991</td>\n",
              "      <td>69.208008</td>\n",
              "      <td>26.735992</td>\n",
              "      <td>43.085999</td>\n",
              "      <td>104.674011</td>\n",
              "      <td>223.442017</td>\n",
              "      <td>144.839996</td>\n",
              "      <td>73.259979</td>\n",
              "      <td>185.25</td>\n",
              "      <td>0.0</td>\n",
              "    </tr>\n",
              "  </tbody>\n",
              "</table>\n",
              "</div>"
            ],
            "text/plain": [
              "Month         1          2          3   ...         10      11   12\n",
              "Year                                    ...                        \n",
              "2020   44.061996  49.885986  77.655991  ...  73.259979  185.25  0.0\n",
              "\n",
              "[1 rows x 12 columns]"
            ]
          },
          "metadata": {
            "tags": []
          },
          "execution_count": 135
        }
      ]
    },
    {
      "cell_type": "code",
      "metadata": {
        "colab": {
          "base_uri": "https://localhost:8080/",
          "height": 233
        },
        "id": "YJuTDsM_sWKH",
        "outputId": "f4b9a8bf-468f-43ae-e015-abe9a236fdeb"
      },
      "source": [
        "df = pd.pivot_table(tesla, index='Month')\r\n",
        "df.head(5)"
      ],
      "execution_count": null,
      "outputs": [
        {
          "output_type": "execute_result",
          "data": {
            "text/html": [
              "<div>\n",
              "<style scoped>\n",
              "    .dataframe tbody tr th:only-of-type {\n",
              "        vertical-align: middle;\n",
              "    }\n",
              "\n",
              "    .dataframe tbody tr th {\n",
              "        vertical-align: top;\n",
              "    }\n",
              "\n",
              "    .dataframe thead th {\n",
              "        text-align: right;\n",
              "    }\n",
              "</style>\n",
              "<table border=\"1\" class=\"dataframe\">\n",
              "  <thead>\n",
              "    <tr style=\"text-align: right;\">\n",
              "      <th></th>\n",
              "      <th>Adj Close</th>\n",
              "      <th>Close</th>\n",
              "      <th>High</th>\n",
              "      <th>Low</th>\n",
              "      <th>Open</th>\n",
              "      <th>Profit</th>\n",
              "      <th>Profitable</th>\n",
              "      <th>Returns</th>\n",
              "      <th>Volume</th>\n",
              "      <th>Year</th>\n",
              "    </tr>\n",
              "    <tr>\n",
              "      <th>Month</th>\n",
              "      <th></th>\n",
              "      <th></th>\n",
              "      <th></th>\n",
              "      <th></th>\n",
              "      <th></th>\n",
              "      <th></th>\n",
              "      <th></th>\n",
              "      <th></th>\n",
              "      <th></th>\n",
              "      <th></th>\n",
              "    </tr>\n",
              "  </thead>\n",
              "  <tbody>\n",
              "    <tr>\n",
              "      <th>1</th>\n",
              "      <td>105.731809</td>\n",
              "      <td>105.731809</td>\n",
              "      <td>107.285715</td>\n",
              "      <td>102.938000</td>\n",
              "      <td>104.609048</td>\n",
              "      <td>2.203100</td>\n",
              "      <td>0.619048</td>\n",
              "      <td>0.021536</td>\n",
              "      <td>9.695679e+07</td>\n",
              "      <td>2020</td>\n",
              "    </tr>\n",
              "    <tr>\n",
              "      <th>2</th>\n",
              "      <td>159.489368</td>\n",
              "      <td>159.489368</td>\n",
              "      <td>166.152104</td>\n",
              "      <td>153.288210</td>\n",
              "      <td>158.950842</td>\n",
              "      <td>0.183369</td>\n",
              "      <td>0.473684</td>\n",
              "      <td>0.004702</td>\n",
              "      <td>1.244991e+08</td>\n",
              "      <td>2020</td>\n",
              "    </tr>\n",
              "    <tr>\n",
              "      <th>3</th>\n",
              "      <td>111.820273</td>\n",
              "      <td>111.820273</td>\n",
              "      <td>117.411547</td>\n",
              "      <td>106.974091</td>\n",
              "      <td>112.785091</td>\n",
              "      <td>-1.309000</td>\n",
              "      <td>0.409091</td>\n",
              "      <td>-0.006827</td>\n",
              "      <td>9.566705e+07</td>\n",
              "      <td>2020</td>\n",
              "    </tr>\n",
              "    <tr>\n",
              "      <th>4</th>\n",
              "      <td>132.719715</td>\n",
              "      <td>132.719715</td>\n",
              "      <td>137.320382</td>\n",
              "      <td>128.212762</td>\n",
              "      <td>133.058952</td>\n",
              "      <td>2.456000</td>\n",
              "      <td>0.666667</td>\n",
              "      <td>0.020870</td>\n",
              "      <td>9.084819e+07</td>\n",
              "      <td>2020</td>\n",
              "    </tr>\n",
              "    <tr>\n",
              "      <th>5</th>\n",
              "      <td>159.885102</td>\n",
              "      <td>159.885102</td>\n",
              "      <td>163.147200</td>\n",
              "      <td>156.069100</td>\n",
              "      <td>159.812000</td>\n",
              "      <td>0.531200</td>\n",
              "      <td>0.550000</td>\n",
              "      <td>0.003900</td>\n",
              "      <td>6.820688e+07</td>\n",
              "      <td>2020</td>\n",
              "    </tr>\n",
              "  </tbody>\n",
              "</table>\n",
              "</div>"
            ],
            "text/plain": [
              "        Adj Close       Close        High  ...   Returns        Volume  Year\n",
              "Month                                      ...                              \n",
              "1      105.731809  105.731809  107.285715  ...  0.021536  9.695679e+07  2020\n",
              "2      159.489368  159.489368  166.152104  ...  0.004702  1.244991e+08  2020\n",
              "3      111.820273  111.820273  117.411547  ... -0.006827  9.566705e+07  2020\n",
              "4      132.719715  132.719715  137.320382  ...  0.020870  9.084819e+07  2020\n",
              "5      159.885102  159.885102  163.147200  ...  0.003900  6.820688e+07  2020\n",
              "\n",
              "[5 rows x 10 columns]"
            ]
          },
          "metadata": {
            "tags": []
          },
          "execution_count": 136
        }
      ]
    },
    {
      "cell_type": "code",
      "metadata": {
        "colab": {
          "base_uri": "https://localhost:8080/",
          "height": 233
        },
        "id": "UtxAci9RsfM9",
        "outputId": "2b2de26c-014d-43fd-8a8a-2ed11cd6e403"
      },
      "source": [
        "df = pd.pivot_table(tesla, index=['Month', 'Year'])\r\n",
        "df.head(5)"
      ],
      "execution_count": null,
      "outputs": [
        {
          "output_type": "execute_result",
          "data": {
            "text/html": [
              "<div>\n",
              "<style scoped>\n",
              "    .dataframe tbody tr th:only-of-type {\n",
              "        vertical-align: middle;\n",
              "    }\n",
              "\n",
              "    .dataframe tbody tr th {\n",
              "        vertical-align: top;\n",
              "    }\n",
              "\n",
              "    .dataframe thead th {\n",
              "        text-align: right;\n",
              "    }\n",
              "</style>\n",
              "<table border=\"1\" class=\"dataframe\">\n",
              "  <thead>\n",
              "    <tr style=\"text-align: right;\">\n",
              "      <th></th>\n",
              "      <th></th>\n",
              "      <th>Adj Close</th>\n",
              "      <th>Close</th>\n",
              "      <th>High</th>\n",
              "      <th>Low</th>\n",
              "      <th>Open</th>\n",
              "      <th>Profit</th>\n",
              "      <th>Profitable</th>\n",
              "      <th>Returns</th>\n",
              "      <th>Volume</th>\n",
              "    </tr>\n",
              "    <tr>\n",
              "      <th>Month</th>\n",
              "      <th>Year</th>\n",
              "      <th></th>\n",
              "      <th></th>\n",
              "      <th></th>\n",
              "      <th></th>\n",
              "      <th></th>\n",
              "      <th></th>\n",
              "      <th></th>\n",
              "      <th></th>\n",
              "      <th></th>\n",
              "    </tr>\n",
              "  </thead>\n",
              "  <tbody>\n",
              "    <tr>\n",
              "      <th>1</th>\n",
              "      <th>2020</th>\n",
              "      <td>105.731809</td>\n",
              "      <td>105.731809</td>\n",
              "      <td>107.285715</td>\n",
              "      <td>102.938000</td>\n",
              "      <td>104.609048</td>\n",
              "      <td>2.203100</td>\n",
              "      <td>0.619048</td>\n",
              "      <td>0.021536</td>\n",
              "      <td>9.695679e+07</td>\n",
              "    </tr>\n",
              "    <tr>\n",
              "      <th>2</th>\n",
              "      <th>2020</th>\n",
              "      <td>159.489368</td>\n",
              "      <td>159.489368</td>\n",
              "      <td>166.152104</td>\n",
              "      <td>153.288210</td>\n",
              "      <td>158.950842</td>\n",
              "      <td>0.183369</td>\n",
              "      <td>0.473684</td>\n",
              "      <td>0.004702</td>\n",
              "      <td>1.244991e+08</td>\n",
              "    </tr>\n",
              "    <tr>\n",
              "      <th>3</th>\n",
              "      <th>2020</th>\n",
              "      <td>111.820273</td>\n",
              "      <td>111.820273</td>\n",
              "      <td>117.411547</td>\n",
              "      <td>106.974091</td>\n",
              "      <td>112.785091</td>\n",
              "      <td>-1.309000</td>\n",
              "      <td>0.409091</td>\n",
              "      <td>-0.006827</td>\n",
              "      <td>9.566705e+07</td>\n",
              "    </tr>\n",
              "    <tr>\n",
              "      <th>4</th>\n",
              "      <th>2020</th>\n",
              "      <td>132.719715</td>\n",
              "      <td>132.719715</td>\n",
              "      <td>137.320382</td>\n",
              "      <td>128.212762</td>\n",
              "      <td>133.058952</td>\n",
              "      <td>2.456000</td>\n",
              "      <td>0.666667</td>\n",
              "      <td>0.020870</td>\n",
              "      <td>9.084819e+07</td>\n",
              "    </tr>\n",
              "    <tr>\n",
              "      <th>5</th>\n",
              "      <th>2020</th>\n",
              "      <td>159.885102</td>\n",
              "      <td>159.885102</td>\n",
              "      <td>163.147200</td>\n",
              "      <td>156.069100</td>\n",
              "      <td>159.812000</td>\n",
              "      <td>0.531200</td>\n",
              "      <td>0.550000</td>\n",
              "      <td>0.003900</td>\n",
              "      <td>6.820688e+07</td>\n",
              "    </tr>\n",
              "  </tbody>\n",
              "</table>\n",
              "</div>"
            ],
            "text/plain": [
              "             Adj Close       Close  ...   Returns        Volume\n",
              "Month Year                          ...                        \n",
              "1     2020  105.731809  105.731809  ...  0.021536  9.695679e+07\n",
              "2     2020  159.489368  159.489368  ...  0.004702  1.244991e+08\n",
              "3     2020  111.820273  111.820273  ... -0.006827  9.566705e+07\n",
              "4     2020  132.719715  132.719715  ...  0.020870  9.084819e+07\n",
              "5     2020  159.885102  159.885102  ...  0.003900  6.820688e+07\n",
              "\n",
              "[5 rows x 9 columns]"
            ]
          },
          "metadata": {
            "tags": []
          },
          "execution_count": 137
        }
      ]
    },
    {
      "cell_type": "code",
      "metadata": {
        "colab": {
          "base_uri": "https://localhost:8080/",
          "height": 222
        },
        "id": "ZHIes8Txst01",
        "outputId": "be6a9233-6099-459e-8b68-e90cd8504a54"
      },
      "source": [
        "df = pd.pivot_table(tesla, index=['Year'], values=['Close'], columns=['Month'], aggfunc=[np.mean], fill_value=0, margins=True)\r\n",
        "df.head(5)"
      ],
      "execution_count": null,
      "outputs": [
        {
          "output_type": "execute_result",
          "data": {
            "text/html": [
              "<div>\n",
              "<style scoped>\n",
              "    .dataframe tbody tr th:only-of-type {\n",
              "        vertical-align: middle;\n",
              "    }\n",
              "\n",
              "    .dataframe tbody tr th {\n",
              "        vertical-align: top;\n",
              "    }\n",
              "\n",
              "    .dataframe thead tr th {\n",
              "        text-align: left;\n",
              "    }\n",
              "\n",
              "    .dataframe thead tr:last-of-type th {\n",
              "        text-align: right;\n",
              "    }\n",
              "</style>\n",
              "<table border=\"1\" class=\"dataframe\">\n",
              "  <thead>\n",
              "    <tr>\n",
              "      <th></th>\n",
              "      <th colspan=\"13\" halign=\"left\">mean</th>\n",
              "    </tr>\n",
              "    <tr>\n",
              "      <th></th>\n",
              "      <th colspan=\"13\" halign=\"left\">Close</th>\n",
              "    </tr>\n",
              "    <tr>\n",
              "      <th>Month</th>\n",
              "      <th>1</th>\n",
              "      <th>2</th>\n",
              "      <th>3</th>\n",
              "      <th>4</th>\n",
              "      <th>5</th>\n",
              "      <th>6</th>\n",
              "      <th>7</th>\n",
              "      <th>8</th>\n",
              "      <th>9</th>\n",
              "      <th>10</th>\n",
              "      <th>11</th>\n",
              "      <th>12</th>\n",
              "      <th>All</th>\n",
              "    </tr>\n",
              "    <tr>\n",
              "      <th>Year</th>\n",
              "      <th></th>\n",
              "      <th></th>\n",
              "      <th></th>\n",
              "      <th></th>\n",
              "      <th></th>\n",
              "      <th></th>\n",
              "      <th></th>\n",
              "      <th></th>\n",
              "      <th></th>\n",
              "      <th></th>\n",
              "      <th></th>\n",
              "      <th></th>\n",
              "      <th></th>\n",
              "    </tr>\n",
              "  </thead>\n",
              "  <tbody>\n",
              "    <tr>\n",
              "      <th>2020</th>\n",
              "      <td>105.731809</td>\n",
              "      <td>159.489368</td>\n",
              "      <td>111.820273</td>\n",
              "      <td>132.719715</td>\n",
              "      <td>159.885102</td>\n",
              "      <td>192.708453</td>\n",
              "      <td>292.028179</td>\n",
              "      <td>360.059711</td>\n",
              "      <td>413.495239</td>\n",
              "      <td>427.209545</td>\n",
              "      <td>465.612498</td>\n",
              "      <td>584.76001</td>\n",
              "      <td>258.189689</td>\n",
              "    </tr>\n",
              "    <tr>\n",
              "      <th>All</th>\n",
              "      <td>105.731809</td>\n",
              "      <td>159.489368</td>\n",
              "      <td>111.820273</td>\n",
              "      <td>132.719715</td>\n",
              "      <td>159.885102</td>\n",
              "      <td>192.708453</td>\n",
              "      <td>292.028179</td>\n",
              "      <td>360.059711</td>\n",
              "      <td>413.495239</td>\n",
              "      <td>427.209545</td>\n",
              "      <td>465.612498</td>\n",
              "      <td>584.76001</td>\n",
              "      <td>258.189689</td>\n",
              "    </tr>\n",
              "  </tbody>\n",
              "</table>\n",
              "</div>"
            ],
            "text/plain": [
              "             mean                          ...                                   \n",
              "            Close                          ...                                   \n",
              "Month           1           2           3  ...          11         12         All\n",
              "Year                                       ...                                   \n",
              "2020   105.731809  159.489368  111.820273  ...  465.612498  584.76001  258.189689\n",
              "All    105.731809  159.489368  111.820273  ...  465.612498  584.76001  258.189689\n",
              "\n",
              "[2 rows x 13 columns]"
            ]
          },
          "metadata": {
            "tags": []
          },
          "execution_count": 138
        }
      ]
    },
    {
      "cell_type": "code",
      "metadata": {
        "id": "UwqRwBA9tJ4u"
      },
      "source": [
        "tesla['Moving Average'] = tesla['Close'].rolling(window=3).mean()\r\n",
        "\r\n",
        "tesla.to_excel('Tesla.xlsx')"
      ],
      "execution_count": null,
      "outputs": []
    },
    {
      "cell_type": "code",
      "metadata": {
        "id": "JDlV3YuokhUT"
      },
      "source": [
        "import threading\r\n",
        "from queue import Queue\r\n",
        "import time"
      ],
      "execution_count": null,
      "outputs": []
    },
    {
      "cell_type": "code",
      "metadata": {
        "id": "x2CYs0lYlBtQ"
      },
      "source": [
        "print_lock = threading.Lock()"
      ],
      "execution_count": null,
      "outputs": []
    },
    {
      "cell_type": "code",
      "metadata": {
        "id": "i_mgwvFHlFl9"
      },
      "source": [
        "def exampleJob(worker):\r\n",
        "  time.sleep(.5)\r\n",
        "  with print_lock:\r\n",
        "    print(threading.current_thread().name, worker)"
      ],
      "execution_count": null,
      "outputs": []
    },
    {
      "cell_type": "code",
      "metadata": {
        "id": "UA65Scm1lUHZ"
      },
      "source": [
        "def threader():\r\n",
        "  while True:\r\n",
        "    worker = q.get()\r\n",
        "    exampleJob(worker)\r\n",
        "    q.task_done()"
      ],
      "execution_count": null,
      "outputs": []
    },
    {
      "cell_type": "code",
      "metadata": {
        "id": "3fF_BAtulxtc"
      },
      "source": [
        "q = Queue()"
      ],
      "execution_count": null,
      "outputs": []
    },
    {
      "cell_type": "code",
      "metadata": {
        "id": "ONpl-k6clzw2"
      },
      "source": [
        "for x in range(10):\r\n",
        "  t = threading.Thread(target=threader)\r\n",
        "  t.daemon = True\r\n",
        "  t.start()"
      ],
      "execution_count": null,
      "outputs": []
    },
    {
      "cell_type": "code",
      "metadata": {
        "id": "Ltf8QJ_kl_Hg"
      },
      "source": [
        "start = time.time()"
      ],
      "execution_count": null,
      "outputs": []
    },
    {
      "cell_type": "code",
      "metadata": {
        "colab": {
          "base_uri": "https://localhost:8080/"
        },
        "id": "1fiN3rnYmDTU",
        "outputId": "1b7a9052-fae9-413c-c834-8aff94a2202d"
      },
      "source": [
        "for worker in range(20):\r\n",
        "  q.put(worker)\r\n",
        "\r\n",
        "\r\n",
        "q.join()"
      ],
      "execution_count": null,
      "outputs": [
        {
          "output_type": "stream",
          "text": [
            "Thread-35 0\n",
            "Thread-43 8\n",
            "Thread-42 7\n",
            "Thread-36 1\n",
            "Thread-37 2\n",
            "Thread-41 6\n",
            "Thread-39 4\n",
            "Thread-44 9\n",
            "Thread-38 3\n",
            "Thread-40 5\n",
            "Thread-35 10\n",
            "Thread-43 11\n",
            "Thread-42 12\n",
            "Thread-36 13\n",
            "Thread-37 14\n",
            "Thread-41 15\n",
            "Thread-39 16\n",
            "Thread-38 18\n",
            "Thread-44 17\n",
            "Thread-40 19\n"
          ],
          "name": "stdout"
        }
      ]
    },
    {
      "cell_type": "code",
      "metadata": {
        "colab": {
          "base_uri": "https://localhost:8080/"
        },
        "id": "A_t8EaRymH41",
        "outputId": "a3c083dd-9280-4551-e273-4c644c6d8d48"
      },
      "source": [
        "# above code will give timeline of the running thread and below one will give exact time it took\r\n",
        "\r\n",
        "print('Entire job took:', time.time() - start)"
      ],
      "execution_count": null,
      "outputs": [
        {
          "output_type": "stream",
          "text": [
            "Entire job took: 1.0248439311981201\n"
          ],
          "name": "stdout"
        }
      ]
    },
    {
      "cell_type": "code",
      "metadata": {
        "id": "MxtcjU2cmf1M"
      },
      "source": [
        "import multiprocessing"
      ],
      "execution_count": null,
      "outputs": []
    },
    {
      "cell_type": "code",
      "metadata": {
        "id": "U11OuiORuphn"
      },
      "source": [
        "def spawn():\r\n",
        "  print('Spawned')"
      ],
      "execution_count": null,
      "outputs": []
    },
    {
      "cell_type": "code",
      "metadata": {
        "colab": {
          "base_uri": "https://localhost:8080/"
        },
        "id": "2NSCwN1IuxSo",
        "outputId": "41663bfe-d90b-4b18-ff8d-24abbabd4658"
      },
      "source": [
        "if __name__ == '__main__':\r\n",
        "  for i in range(5):\r\n",
        "    p = multiprocessing.Process(target=spawn)\r\n",
        "    p.start()\r\n",
        "    p.join()"
      ],
      "execution_count": null,
      "outputs": [
        {
          "output_type": "stream",
          "text": [
            "Spawned\n",
            "Spawned\n",
            "Spawned\n",
            "Spawned\n",
            "Spawned\n"
          ],
          "name": "stdout"
        }
      ]
    },
    {
      "cell_type": "code",
      "metadata": {
        "id": "SGsiuK_XvCJx",
        "colab": {
          "base_uri": "https://localhost:8080/"
        },
        "outputId": "0dd45f99-122f-4a65-86de-26ccd234ab48"
      },
      "source": [
        "from multiprocessing import Pool\r\n",
        "\r\n",
        "def job(num):\r\n",
        "  return num*2\r\n",
        "\r\n",
        "if __name__ == '__main__':\r\n",
        "  for i in range(5):\r\n",
        "    p1 = Pool(processes = 10)\r\n",
        "    data = p1.map(job, [i for i in range(500)])\r\n",
        "    p1.close()\r\n",
        "    print(data)"
      ],
      "execution_count": null,
      "outputs": [
        {
          "output_type": "stream",
          "text": [
            "[0, 2, 4, 6, 8, 10, 12, 14, 16, 18, 20, 22, 24, 26, 28, 30, 32, 34, 36, 38, 40, 42, 44, 46, 48, 50, 52, 54, 56, 58, 60, 62, 64, 66, 68, 70, 72, 74, 76, 78, 80, 82, 84, 86, 88, 90, 92, 94, 96, 98, 100, 102, 104, 106, 108, 110, 112, 114, 116, 118, 120, 122, 124, 126, 128, 130, 132, 134, 136, 138, 140, 142, 144, 146, 148, 150, 152, 154, 156, 158, 160, 162, 164, 166, 168, 170, 172, 174, 176, 178, 180, 182, 184, 186, 188, 190, 192, 194, 196, 198, 200, 202, 204, 206, 208, 210, 212, 214, 216, 218, 220, 222, 224, 226, 228, 230, 232, 234, 236, 238, 240, 242, 244, 246, 248, 250, 252, 254, 256, 258, 260, 262, 264, 266, 268, 270, 272, 274, 276, 278, 280, 282, 284, 286, 288, 290, 292, 294, 296, 298, 300, 302, 304, 306, 308, 310, 312, 314, 316, 318, 320, 322, 324, 326, 328, 330, 332, 334, 336, 338, 340, 342, 344, 346, 348, 350, 352, 354, 356, 358, 360, 362, 364, 366, 368, 370, 372, 374, 376, 378, 380, 382, 384, 386, 388, 390, 392, 394, 396, 398, 400, 402, 404, 406, 408, 410, 412, 414, 416, 418, 420, 422, 424, 426, 428, 430, 432, 434, 436, 438, 440, 442, 444, 446, 448, 450, 452, 454, 456, 458, 460, 462, 464, 466, 468, 470, 472, 474, 476, 478, 480, 482, 484, 486, 488, 490, 492, 494, 496, 498, 500, 502, 504, 506, 508, 510, 512, 514, 516, 518, 520, 522, 524, 526, 528, 530, 532, 534, 536, 538, 540, 542, 544, 546, 548, 550, 552, 554, 556, 558, 560, 562, 564, 566, 568, 570, 572, 574, 576, 578, 580, 582, 584, 586, 588, 590, 592, 594, 596, 598, 600, 602, 604, 606, 608, 610, 612, 614, 616, 618, 620, 622, 624, 626, 628, 630, 632, 634, 636, 638, 640, 642, 644, 646, 648, 650, 652, 654, 656, 658, 660, 662, 664, 666, 668, 670, 672, 674, 676, 678, 680, 682, 684, 686, 688, 690, 692, 694, 696, 698, 700, 702, 704, 706, 708, 710, 712, 714, 716, 718, 720, 722, 724, 726, 728, 730, 732, 734, 736, 738, 740, 742, 744, 746, 748, 750, 752, 754, 756, 758, 760, 762, 764, 766, 768, 770, 772, 774, 776, 778, 780, 782, 784, 786, 788, 790, 792, 794, 796, 798, 800, 802, 804, 806, 808, 810, 812, 814, 816, 818, 820, 822, 824, 826, 828, 830, 832, 834, 836, 838, 840, 842, 844, 846, 848, 850, 852, 854, 856, 858, 860, 862, 864, 866, 868, 870, 872, 874, 876, 878, 880, 882, 884, 886, 888, 890, 892, 894, 896, 898, 900, 902, 904, 906, 908, 910, 912, 914, 916, 918, 920, 922, 924, 926, 928, 930, 932, 934, 936, 938, 940, 942, 944, 946, 948, 950, 952, 954, 956, 958, 960, 962, 964, 966, 968, 970, 972, 974, 976, 978, 980, 982, 984, 986, 988, 990, 992, 994, 996, 998]\n",
            "[0, 2, 4, 6, 8, 10, 12, 14, 16, 18, 20, 22, 24, 26, 28, 30, 32, 34, 36, 38, 40, 42, 44, 46, 48, 50, 52, 54, 56, 58, 60, 62, 64, 66, 68, 70, 72, 74, 76, 78, 80, 82, 84, 86, 88, 90, 92, 94, 96, 98, 100, 102, 104, 106, 108, 110, 112, 114, 116, 118, 120, 122, 124, 126, 128, 130, 132, 134, 136, 138, 140, 142, 144, 146, 148, 150, 152, 154, 156, 158, 160, 162, 164, 166, 168, 170, 172, 174, 176, 178, 180, 182, 184, 186, 188, 190, 192, 194, 196, 198, 200, 202, 204, 206, 208, 210, 212, 214, 216, 218, 220, 222, 224, 226, 228, 230, 232, 234, 236, 238, 240, 242, 244, 246, 248, 250, 252, 254, 256, 258, 260, 262, 264, 266, 268, 270, 272, 274, 276, 278, 280, 282, 284, 286, 288, 290, 292, 294, 296, 298, 300, 302, 304, 306, 308, 310, 312, 314, 316, 318, 320, 322, 324, 326, 328, 330, 332, 334, 336, 338, 340, 342, 344, 346, 348, 350, 352, 354, 356, 358, 360, 362, 364, 366, 368, 370, 372, 374, 376, 378, 380, 382, 384, 386, 388, 390, 392, 394, 396, 398, 400, 402, 404, 406, 408, 410, 412, 414, 416, 418, 420, 422, 424, 426, 428, 430, 432, 434, 436, 438, 440, 442, 444, 446, 448, 450, 452, 454, 456, 458, 460, 462, 464, 466, 468, 470, 472, 474, 476, 478, 480, 482, 484, 486, 488, 490, 492, 494, 496, 498, 500, 502, 504, 506, 508, 510, 512, 514, 516, 518, 520, 522, 524, 526, 528, 530, 532, 534, 536, 538, 540, 542, 544, 546, 548, 550, 552, 554, 556, 558, 560, 562, 564, 566, 568, 570, 572, 574, 576, 578, 580, 582, 584, 586, 588, 590, 592, 594, 596, 598, 600, 602, 604, 606, 608, 610, 612, 614, 616, 618, 620, 622, 624, 626, 628, 630, 632, 634, 636, 638, 640, 642, 644, 646, 648, 650, 652, 654, 656, 658, 660, 662, 664, 666, 668, 670, 672, 674, 676, 678, 680, 682, 684, 686, 688, 690, 692, 694, 696, 698, 700, 702, 704, 706, 708, 710, 712, 714, 716, 718, 720, 722, 724, 726, 728, 730, 732, 734, 736, 738, 740, 742, 744, 746, 748, 750, 752, 754, 756, 758, 760, 762, 764, 766, 768, 770, 772, 774, 776, 778, 780, 782, 784, 786, 788, 790, 792, 794, 796, 798, 800, 802, 804, 806, 808, 810, 812, 814, 816, 818, 820, 822, 824, 826, 828, 830, 832, 834, 836, 838, 840, 842, 844, 846, 848, 850, 852, 854, 856, 858, 860, 862, 864, 866, 868, 870, 872, 874, 876, 878, 880, 882, 884, 886, 888, 890, 892, 894, 896, 898, 900, 902, 904, 906, 908, 910, 912, 914, 916, 918, 920, 922, 924, 926, 928, 930, 932, 934, 936, 938, 940, 942, 944, 946, 948, 950, 952, 954, 956, 958, 960, 962, 964, 966, 968, 970, 972, 974, 976, 978, 980, 982, 984, 986, 988, 990, 992, 994, 996, 998]\n",
            "[0, 2, 4, 6, 8, 10, 12, 14, 16, 18, 20, 22, 24, 26, 28, 30, 32, 34, 36, 38, 40, 42, 44, 46, 48, 50, 52, 54, 56, 58, 60, 62, 64, 66, 68, 70, 72, 74, 76, 78, 80, 82, 84, 86, 88, 90, 92, 94, 96, 98, 100, 102, 104, 106, 108, 110, 112, 114, 116, 118, 120, 122, 124, 126, 128, 130, 132, 134, 136, 138, 140, 142, 144, 146, 148, 150, 152, 154, 156, 158, 160, 162, 164, 166, 168, 170, 172, 174, 176, 178, 180, 182, 184, 186, 188, 190, 192, 194, 196, 198, 200, 202, 204, 206, 208, 210, 212, 214, 216, 218, 220, 222, 224, 226, 228, 230, 232, 234, 236, 238, 240, 242, 244, 246, 248, 250, 252, 254, 256, 258, 260, 262, 264, 266, 268, 270, 272, 274, 276, 278, 280, 282, 284, 286, 288, 290, 292, 294, 296, 298, 300, 302, 304, 306, 308, 310, 312, 314, 316, 318, 320, 322, 324, 326, 328, 330, 332, 334, 336, 338, 340, 342, 344, 346, 348, 350, 352, 354, 356, 358, 360, 362, 364, 366, 368, 370, 372, 374, 376, 378, 380, 382, 384, 386, 388, 390, 392, 394, 396, 398, 400, 402, 404, 406, 408, 410, 412, 414, 416, 418, 420, 422, 424, 426, 428, 430, 432, 434, 436, 438, 440, 442, 444, 446, 448, 450, 452, 454, 456, 458, 460, 462, 464, 466, 468, 470, 472, 474, 476, 478, 480, 482, 484, 486, 488, 490, 492, 494, 496, 498, 500, 502, 504, 506, 508, 510, 512, 514, 516, 518, 520, 522, 524, 526, 528, 530, 532, 534, 536, 538, 540, 542, 544, 546, 548, 550, 552, 554, 556, 558, 560, 562, 564, 566, 568, 570, 572, 574, 576, 578, 580, 582, 584, 586, 588, 590, 592, 594, 596, 598, 600, 602, 604, 606, 608, 610, 612, 614, 616, 618, 620, 622, 624, 626, 628, 630, 632, 634, 636, 638, 640, 642, 644, 646, 648, 650, 652, 654, 656, 658, 660, 662, 664, 666, 668, 670, 672, 674, 676, 678, 680, 682, 684, 686, 688, 690, 692, 694, 696, 698, 700, 702, 704, 706, 708, 710, 712, 714, 716, 718, 720, 722, 724, 726, 728, 730, 732, 734, 736, 738, 740, 742, 744, 746, 748, 750, 752, 754, 756, 758, 760, 762, 764, 766, 768, 770, 772, 774, 776, 778, 780, 782, 784, 786, 788, 790, 792, 794, 796, 798, 800, 802, 804, 806, 808, 810, 812, 814, 816, 818, 820, 822, 824, 826, 828, 830, 832, 834, 836, 838, 840, 842, 844, 846, 848, 850, 852, 854, 856, 858, 860, 862, 864, 866, 868, 870, 872, 874, 876, 878, 880, 882, 884, 886, 888, 890, 892, 894, 896, 898, 900, 902, 904, 906, 908, 910, 912, 914, 916, 918, 920, 922, 924, 926, 928, 930, 932, 934, 936, 938, 940, 942, 944, 946, 948, 950, 952, 954, 956, 958, 960, 962, 964, 966, 968, 970, 972, 974, 976, 978, 980, 982, 984, 986, 988, 990, 992, 994, 996, 998]\n",
            "[0, 2, 4, 6, 8, 10, 12, 14, 16, 18, 20, 22, 24, 26, 28, 30, 32, 34, 36, 38, 40, 42, 44, 46, 48, 50, 52, 54, 56, 58, 60, 62, 64, 66, 68, 70, 72, 74, 76, 78, 80, 82, 84, 86, 88, 90, 92, 94, 96, 98, 100, 102, 104, 106, 108, 110, 112, 114, 116, 118, 120, 122, 124, 126, 128, 130, 132, 134, 136, 138, 140, 142, 144, 146, 148, 150, 152, 154, 156, 158, 160, 162, 164, 166, 168, 170, 172, 174, 176, 178, 180, 182, 184, 186, 188, 190, 192, 194, 196, 198, 200, 202, 204, 206, 208, 210, 212, 214, 216, 218, 220, 222, 224, 226, 228, 230, 232, 234, 236, 238, 240, 242, 244, 246, 248, 250, 252, 254, 256, 258, 260, 262, 264, 266, 268, 270, 272, 274, 276, 278, 280, 282, 284, 286, 288, 290, 292, 294, 296, 298, 300, 302, 304, 306, 308, 310, 312, 314, 316, 318, 320, 322, 324, 326, 328, 330, 332, 334, 336, 338, 340, 342, 344, 346, 348, 350, 352, 354, 356, 358, 360, 362, 364, 366, 368, 370, 372, 374, 376, 378, 380, 382, 384, 386, 388, 390, 392, 394, 396, 398, 400, 402, 404, 406, 408, 410, 412, 414, 416, 418, 420, 422, 424, 426, 428, 430, 432, 434, 436, 438, 440, 442, 444, 446, 448, 450, 452, 454, 456, 458, 460, 462, 464, 466, 468, 470, 472, 474, 476, 478, 480, 482, 484, 486, 488, 490, 492, 494, 496, 498, 500, 502, 504, 506, 508, 510, 512, 514, 516, 518, 520, 522, 524, 526, 528, 530, 532, 534, 536, 538, 540, 542, 544, 546, 548, 550, 552, 554, 556, 558, 560, 562, 564, 566, 568, 570, 572, 574, 576, 578, 580, 582, 584, 586, 588, 590, 592, 594, 596, 598, 600, 602, 604, 606, 608, 610, 612, 614, 616, 618, 620, 622, 624, 626, 628, 630, 632, 634, 636, 638, 640, 642, 644, 646, 648, 650, 652, 654, 656, 658, 660, 662, 664, 666, 668, 670, 672, 674, 676, 678, 680, 682, 684, 686, 688, 690, 692, 694, 696, 698, 700, 702, 704, 706, 708, 710, 712, 714, 716, 718, 720, 722, 724, 726, 728, 730, 732, 734, 736, 738, 740, 742, 744, 746, 748, 750, 752, 754, 756, 758, 760, 762, 764, 766, 768, 770, 772, 774, 776, 778, 780, 782, 784, 786, 788, 790, 792, 794, 796, 798, 800, 802, 804, 806, 808, 810, 812, 814, 816, 818, 820, 822, 824, 826, 828, 830, 832, 834, 836, 838, 840, 842, 844, 846, 848, 850, 852, 854, 856, 858, 860, 862, 864, 866, 868, 870, 872, 874, 876, 878, 880, 882, 884, 886, 888, 890, 892, 894, 896, 898, 900, 902, 904, 906, 908, 910, 912, 914, 916, 918, 920, 922, 924, 926, 928, 930, 932, 934, 936, 938, 940, 942, 944, 946, 948, 950, 952, 954, 956, 958, 960, 962, 964, 966, 968, 970, 972, 974, 976, 978, 980, 982, 984, 986, 988, 990, 992, 994, 996, 998]\n",
            "[0, 2, 4, 6, 8, 10, 12, 14, 16, 18, 20, 22, 24, 26, 28, 30, 32, 34, 36, 38, 40, 42, 44, 46, 48, 50, 52, 54, 56, 58, 60, 62, 64, 66, 68, 70, 72, 74, 76, 78, 80, 82, 84, 86, 88, 90, 92, 94, 96, 98, 100, 102, 104, 106, 108, 110, 112, 114, 116, 118, 120, 122, 124, 126, 128, 130, 132, 134, 136, 138, 140, 142, 144, 146, 148, 150, 152, 154, 156, 158, 160, 162, 164, 166, 168, 170, 172, 174, 176, 178, 180, 182, 184, 186, 188, 190, 192, 194, 196, 198, 200, 202, 204, 206, 208, 210, 212, 214, 216, 218, 220, 222, 224, 226, 228, 230, 232, 234, 236, 238, 240, 242, 244, 246, 248, 250, 252, 254, 256, 258, 260, 262, 264, 266, 268, 270, 272, 274, 276, 278, 280, 282, 284, 286, 288, 290, 292, 294, 296, 298, 300, 302, 304, 306, 308, 310, 312, 314, 316, 318, 320, 322, 324, 326, 328, 330, 332, 334, 336, 338, 340, 342, 344, 346, 348, 350, 352, 354, 356, 358, 360, 362, 364, 366, 368, 370, 372, 374, 376, 378, 380, 382, 384, 386, 388, 390, 392, 394, 396, 398, 400, 402, 404, 406, 408, 410, 412, 414, 416, 418, 420, 422, 424, 426, 428, 430, 432, 434, 436, 438, 440, 442, 444, 446, 448, 450, 452, 454, 456, 458, 460, 462, 464, 466, 468, 470, 472, 474, 476, 478, 480, 482, 484, 486, 488, 490, 492, 494, 496, 498, 500, 502, 504, 506, 508, 510, 512, 514, 516, 518, 520, 522, 524, 526, 528, 530, 532, 534, 536, 538, 540, 542, 544, 546, 548, 550, 552, 554, 556, 558, 560, 562, 564, 566, 568, 570, 572, 574, 576, 578, 580, 582, 584, 586, 588, 590, 592, 594, 596, 598, 600, 602, 604, 606, 608, 610, 612, 614, 616, 618, 620, 622, 624, 626, 628, 630, 632, 634, 636, 638, 640, 642, 644, 646, 648, 650, 652, 654, 656, 658, 660, 662, 664, 666, 668, 670, 672, 674, 676, 678, 680, 682, 684, 686, 688, 690, 692, 694, 696, 698, 700, 702, 704, 706, 708, 710, 712, 714, 716, 718, 720, 722, 724, 726, 728, 730, 732, 734, 736, 738, 740, 742, 744, 746, 748, 750, 752, 754, 756, 758, 760, 762, 764, 766, 768, 770, 772, 774, 776, 778, 780, 782, 784, 786, 788, 790, 792, 794, 796, 798, 800, 802, 804, 806, 808, 810, 812, 814, 816, 818, 820, 822, 824, 826, 828, 830, 832, 834, 836, 838, 840, 842, 844, 846, 848, 850, 852, 854, 856, 858, 860, 862, 864, 866, 868, 870, 872, 874, 876, 878, 880, 882, 884, 886, 888, 890, 892, 894, 896, 898, 900, 902, 904, 906, 908, 910, 912, 914, 916, 918, 920, 922, 924, 926, 928, 930, 932, 934, 936, 938, 940, 942, 944, 946, 948, 950, 952, 954, 956, 958, 960, 962, 964, 966, 968, 970, 972, 974, 976, 978, 980, 982, 984, 986, 988, 990, 992, 994, 996, 998]\n"
          ],
          "name": "stdout"
        }
      ]
    },
    {
      "cell_type": "code",
      "metadata": {
        "id": "r57iniO8xRGt"
      },
      "source": [
        "import matplotlib.pyplot as plt\r\n"
      ],
      "execution_count": null,
      "outputs": []
    },
    {
      "cell_type": "code",
      "metadata": {
        "colab": {
          "base_uri": "https://localhost:8080/",
          "height": 265
        },
        "id": "q6zAr0hj2aVi",
        "outputId": "b68284e3-fc2f-44f0-8974-5ec510717dc9"
      },
      "source": [
        "#basic line\r\n",
        "plt.plot([1,2,3,4])\r\n",
        "plt.ylabel('some numbers')\r\n",
        "plt.show()"
      ],
      "execution_count": null,
      "outputs": [
        {
          "output_type": "display_data",
          "data": {
            "image/png": "[encoded data removed]",
            "text/plain": [
              "<Figure size 432x288 with 1 Axes>"
            ]
          },
          "metadata": {
            "tags": [],
            "needs_background": "light"
          }
        }
      ]
    },
    {
      "cell_type": "code",
      "metadata": {
        "colab": {
          "base_uri": "https://localhost:8080/",
          "height": 282
        },
        "id": "SQsIh3PE4Wgu",
        "outputId": "c61025df-df48-4af1-c3b8-eeb6c4a8f417"
      },
      "source": [
        "plt.plot([1,2,3,4],[1,4,9,16])"
      ],
      "execution_count": null,
      "outputs": [
        {
          "output_type": "execute_result",
          "data": {
            "text/plain": [
              "[<matplotlib.lines.Line2D at 0x7fbd594d6518>]"
            ]
          },
          "metadata": {
            "tags": []
          },
          "execution_count": 165
        },
        {
          "output_type": "display_data",
          "data": {
            "image/png": "[encoded data removed]",
            "text/plain": [
              "<Figure size 432x288 with 1 Axes>"
            ]
          },
          "metadata": {
            "tags": [],
            "needs_background": "light"
          }
        }
      ]
    },
    {
      "cell_type": "code",
      "metadata": {
        "colab": {
          "base_uri": "https://localhost:8080/",
          "height": 269
        },
        "id": "dcQu98q34h_K",
        "outputId": "1cb3fb68-dcf8-4d1d-fed2-7f3f76282ecf"
      },
      "source": [
        "plt.plot([1,2,3,4],[1,4,9,16], color = 'red', marker='o')\r\n",
        "plt.plot([1,2,3,4],[2,5,12,19],'gx')\r\n",
        "plt.axis([1,5,1,20])\r\n",
        "plt.show()"
      ],
      "execution_count": null,
      "outputs": [
        {
          "output_type": "display_data",
          "data": {
            "image/png": "[encoded data removed]",
            "text/plain": [
              "<Figure size 432x288 with 1 Axes>"
            ]
          },
          "metadata": {
            "tags": [],
            "needs_background": "light"
          }
        }
      ]
    },
    {
      "cell_type": "code",
      "metadata": {
        "id": "cmsoqpVf5Aw6"
      },
      "source": [
        "#Dotplot\r\n",
        "#evenly sampled time at 200ms interval\r\n",
        "t = np.arange(0.,5.,0.2)"
      ],
      "execution_count": null,
      "outputs": []
    },
    {
      "cell_type": "code",
      "metadata": {
        "colab": {
          "base_uri": "https://localhost:8080/",
          "height": 265
        },
        "id": "NzoSz6R-5T4f",
        "outputId": "b8aeeb4c-82b1-47ed-a7cc-4a7586416d3e"
      },
      "source": [
        "plt.plot(t,t,'r--',t,t**2,'bs',t,t**3,'g^')\r\n",
        "plt.show()"
      ],
      "execution_count": null,
      "outputs": [
        {
          "output_type": "display_data",
          "data": {
            "image/png": "[encoded data removed]",
            "text/plain": [
              "<Figure size 432x288 with 1 Axes>"
            ]
          },
          "metadata": {
            "tags": [],
            "needs_background": "light"
          }
        }
      ]
    },
    {
      "cell_type": "code",
      "metadata": {
        "id": "CC6GmzOl5i6w"
      },
      "source": [
        "?plt.plot"
      ],
      "execution_count": null,
      "outputs": []
    },
    {
      "cell_type": "code",
      "metadata": {
        "id": "ESiPCf3x5mlq"
      },
      "source": [
        "#Scatter\r\n",
        "data = {'a': np.arange(50),\r\n",
        "        'c': np.random.randint(0,50,50),\r\n",
        "        'd': np.random.randn(50)}\r\n",
        "data['b'] = data['a'] + 10*np.random.randn(50)\r\n",
        "data['d'] = np.abs(data['d'])*100"
      ],
      "execution_count": null,
      "outputs": []
    },
    {
      "cell_type": "code",
      "metadata": {
        "colab": {
          "base_uri": "https://localhost:8080/",
          "height": 279
        },
        "id": "Ij5NrrgB6RHq",
        "outputId": "b39a46f9-1d0d-4c6a-bdd9-7f1fdc9c22f4"
      },
      "source": [
        "plt.scatter(data['a'],data['b'])\r\n",
        "plt.scatter('a','b',data=data)\r\n",
        "plt.xlabel('entry a')\r\n",
        "plt.ylabel('entry b')\r\n",
        "plt.show()"
      ],
      "execution_count": null,
      "outputs": [
        {
          "output_type": "display_data",
          "data": {
            "image/png": "[encoded data removed]",
            "text/plain": [
              "<Figure size 432x288 with 1 Axes>"
            ]
          },
          "metadata": {
            "tags": [],
            "needs_background": "light"
          }
        }
      ]
    },
    {
      "cell_type": "code",
      "metadata": {
        "colab": {
          "base_uri": "https://localhost:8080/",
          "height": 265
        },
        "id": "YtszCcvK7ByQ",
        "outputId": "b697c271-f690-482f-e260-37796e0cc8cb"
      },
      "source": [
        "#bar\r\n",
        "height = [3,12,5,18,45]\r\n",
        "bars = ['A','B','C','D','E']\r\n",
        "Y_POS = np.arange(len(bars))\r\n",
        "plt.bar(Y_POS, height)\r\n",
        "plt.xticks(Y_POS,bars)\r\n",
        "plt.show()"
      ],
      "execution_count": null,
      "outputs": [
        {
          "output_type": "display_data",
          "data": {
            "image/png": "[encoded data removed]",
            "text/plain": [
              "<Figure size 432x288 with 1 Axes>"
            ]
          },
          "metadata": {
            "tags": [],
            "needs_background": "light"
          }
        }
      ]
    },
    {
      "cell_type": "code",
      "metadata": {
        "colab": {
          "base_uri": "https://localhost:8080/",
          "height": 295
        },
        "id": "YcPUD2W77141",
        "outputId": "4c2cabeb-10a6-413a-b299-931c5b96dfbe"
      },
      "source": [
        "#stacked bar\r\n",
        "menMeans = [20,35,30,35,27]\r\n",
        "N = len(menMeans)\r\n",
        "\r\n",
        "womenMeans = [25,32,34,20,25]\r\n",
        "#W = len(womenMeans)\r\n",
        "#menstd = [2,3,4,1,2]\r\n",
        "#womenstd =[3,5,2,3,3]\r\n",
        "ind = np.arange(N)\r\n",
        "width = 0.35\r\n",
        "\r\n",
        "p1 = plt.bar(ind, menMeans, width)\r\n",
        "p2 = plt.bar(ind, womenMeans, width, bottom=menMeans)\r\n",
        "\r\n",
        "plt.xlabel('X Data')\r\n",
        "plt.ylabel('Scores')\r\n",
        "\r\n",
        "plt.title('Scores by group and gender')\r\n",
        "plt.xticks(ind,('G1','G2','G3','G4','G5'))\r\n",
        "plt.yticks(np.arange(0,81,10))\r\n",
        "plt.legend((p1[0],p2[0],('Men','Women')))\r\n",
        "plt.show()"
      ],
      "execution_count": null,
      "outputs": [
        {
          "output_type": "display_data",
          "data": {
            "image/png": "[encoded data removed]",
            "text/plain": [
              "<Figure size 432x288 with 1 Axes>"
            ]
          },
          "metadata": {
            "tags": [],
            "needs_background": "light"
          }
        }
      ]
    },
    {
      "cell_type": "code",
      "metadata": {
        "id": "JnEStPWr9Osk",
        "colab": {
          "base_uri": "https://localhost:8080/",
          "height": 281
        },
        "outputId": "49fde9d4-64fe-4852-86d8-a737d5e090d0"
      },
      "source": [
        "#Bar-joint\r\n",
        "\r\n",
        "labels = ['G1','G2','G3','G4','G5']\r\n",
        "men_means = [20,34,30,35,27]\r\n",
        "women_means=[25,32,34,20,25]\r\n",
        "\r\n",
        "x = np.arange(len(labels)) # the label locations\r\n",
        "width =0.5 #the width of the bars\r\n",
        "#axes\r\n",
        "fig, ax = plt.subplots()\r\n",
        "rects1 = ax.bar(x -width/2, men_means, width,label='Men')\r\n",
        "rects2 = ax.bar(x+ width/2, women_means, width,label='WoMen')\r\n",
        "\r\n",
        "#Add some text for labels, title and custom x-axis ticks labels,etc.\r\n",
        "\r\n",
        "ax.set_ylabel('Scores')\r\n",
        "ax.set_title('Scores by group and gender')\r\n",
        "ax.set_xticks(x)\r\n",
        "ax.set_xticklabels(labels)\r\n",
        "ax.legend()\r\n",
        "plt.show()"
      ],
      "execution_count": null,
      "outputs": [
        {
          "output_type": "display_data",
          "data": {
            "image/png": "[encoded data removed]",
            "text/plain": [
              "<Figure size 432x288 with 1 Axes>"
            ]
          },
          "metadata": {
            "tags": [],
            "needs_background": "light"
          }
        }
      ]
    },
    {
      "cell_type": "code",
      "metadata": {
        "id": "-dD0BxxR-Jso",
        "colab": {
          "base_uri": "https://localhost:8080/",
          "height": 482
        },
        "outputId": "6640d8df-bdd2-4aca-bbef-aa5c46d124ed"
      },
      "source": [
        "names = ['group_a','group_b','group_c']\r\n",
        "values =[1,10,100]\r\n",
        "plt.bar(names,values)\r\n",
        "\r\n",
        "plt.figure(figsize=(9,3))\r\n",
        "\r\n",
        "plt.subplot(131)\r\n",
        "plt.bar(names,values)\r\n",
        "plt.subplot(132)\r\n",
        "plt.scatter(names,values)\r\n",
        "plt.subplot(133)\r\n",
        "plt.plot(names,values)\r\n",
        "plt.suptitle('Categorical plotting')\r\n",
        "plt.show()\r\n"
      ],
      "execution_count": null,
      "outputs": [
        {
          "output_type": "display_data",
          "data": {
            "image/png": "[encoded data removed]",
            "text/plain": [
              "<Figure size 432x288 with 1 Axes>"
            ]
          },
          "metadata": {
            "tags": [],
            "needs_background": "light"
          }
        },
        {
          "output_type": "display_data",
          "data": {
            "image/png": "[encoded data removed]",
            "text/plain": [
              "<Figure size 648x216 with 3 Axes>"
            ]
          },
          "metadata": {
            "tags": [],
            "needs_background": "light"
          }
        }
      ]
    },
    {
      "cell_type": "code",
      "metadata": {
        "id": "3WRjbgvFEZ1B",
        "colab": {
          "base_uri": "https://localhost:8080/",
          "height": 248
        },
        "outputId": "d3b4d1e4-4439-4f86-a963-84715978de30"
      },
      "source": [
        "#Pie chart, where the slices will be ordered and plotted counter clockwise:\r\n",
        "labels = 'Frogs','Hogs','Dogs','Logs'\r\n",
        "sizes=[15,30,45,10]\r\n",
        "explode=(0,0.2,0.1,0) #Only \"explode\" the 2nd slice(i.e. \"Hogs\")\r\n",
        "\r\n",
        "fig, ax = plt.subplots()\r\n",
        "ax.pie(sizes, explode, labels, autopct='%1.0f%%', shadow=True, startangle=45)\r\n",
        "ax.axis('equal') #Equal aspect ratio ensures that pie is drawn as a article.\r\n",
        "\r\n",
        "plt.show()"
      ],
      "execution_count": null,
      "outputs": [
        {
          "output_type": "display_data",
          "data": {
            "image/png": "[encoded data removed]",
            "text/plain": [
              "<Figure size 432x288 with 1 Axes>"
            ]
          },
          "metadata": {
            "tags": []
          }
        }
      ]
    },
    {
      "cell_type": "code",
      "metadata": {
        "id": "5HzVSAVYIrCY"
      },
      "source": [
        "%matplotlib inline"
      ],
      "execution_count": null,
      "outputs": []
    },
    {
      "cell_type": "code",
      "metadata": {
        "colab": {
          "base_uri": "https://localhost:8080/",
          "height": 336
        },
        "id": "nrjrlgFdJEkA",
        "outputId": "2c363243-6c74-4376-ccd0-14bfb80e02a2"
      },
      "source": [
        "#Boxplot\r\n",
        "\r\n",
        "np.random.seed(10)\r\n",
        "data1=np.random.normal(100,10,200)\r\n",
        "data2=np.random.normal(80,30,200)\r\n",
        "data3=np.random.normal(90,20,200)\r\n",
        "data4=np.random.normal(70,25,200)\r\n",
        "\r\n",
        "data = [data1,data2,data3,data4]\r\n",
        "fig = plt.figure()\r\n",
        "#Create all axes instance\r\n",
        "ax = fig.add_axes([0,0,1,1])\r\n",
        "#Create the boxplot\r\n",
        "bp = ax.boxplot(data)\r\n",
        "plt.show()"
      ],
      "execution_count": null,
      "outputs": [
        {
          "output_type": "display_data",
          "data": {
            "image/png": "[encoded data removed]",
            "text/plain": [
              "<Figure size 432x288 with 1 Axes>"
            ]
          },
          "metadata": {
            "tags": [],
            "needs_background": "light"
          }
        }
      ]
    },
    {
      "cell_type": "code",
      "metadata": {
        "colab": {
          "base_uri": "https://localhost:8080/",
          "height": 336
        },
        "id": "iCYbDbLaKH8I",
        "outputId": "eef5ef74-cf5f-410d-e5ec-20ad1bd24405"
      },
      "source": [
        "#Violin\r\n",
        "\r\n",
        "#Create a figure instance\r\n",
        "fig = plt.figure()\r\n",
        "\r\n",
        "#Create an axes instance\r\n",
        "ax = fig.add_axes([0,0,1,1])\r\n",
        "\r\n",
        "#Create the boxplot\r\n",
        "bp = ax.violinplot(data)\r\n",
        "plt.show()"
      ],
      "execution_count": null,
      "outputs": [
        {
          "output_type": "display_data",
          "data": {
            "image/png": "[encoded data removed]",
            "text/plain": [
              "<Figure size 432x288 with 1 Axes>"
            ]
          },
          "metadata": {
            "tags": [],
            "needs_background": "light"
          }
        }
      ]
    },
    {
      "cell_type": "code",
      "metadata": {
        "colab": {
          "base_uri": "https://localhost:8080/",
          "height": 265
        },
        "id": "Mwa_QyK_KfTd",
        "outputId": "afde36ee-11a4-4a17-fc4b-e3c90e05190a"
      },
      "source": [
        "#Heatmap\r\n",
        "\r\n",
        "a=np.random.random((16,16))\r\n",
        "plt.imshow(a, cmap='hot', interpolation='nearest')\r\n",
        "plt.show()"
      ],
      "execution_count": null,
      "outputs": [
        {
          "output_type": "display_data",
          "data": {
            "image/png": "[encoded data removed]",
            "text/plain": [
              "<Figure size 432x288 with 1 Axes>"
            ]
          },
          "metadata": {
            "tags": [],
            "needs_background": "light"
          }
        }
      ]
    },
    {
      "cell_type": "code",
      "metadata": {
        "id": "df98BaZiMZNU"
      },
      "source": [
        "x=np.linspace(0, 2 * np.pi, 400)\r\n",
        "y=np.sin(x**2)"
      ],
      "execution_count": null,
      "outputs": []
    },
    {
      "cell_type": "code",
      "metadata": {
        "colab": {
          "base_uri": "https://localhost:8080/",
          "height": 298
        },
        "id": "D9aNJLSJMkNy",
        "outputId": "4a610e31-7d98-4c1f-a2ad-9a060f1de89c"
      },
      "source": [
        "fig, ax=plt.subplots()\r\n",
        "ax.plot(x, y)\r\n",
        "ax.set_title('A single plot')"
      ],
      "execution_count": null,
      "outputs": [
        {
          "output_type": "execute_result",
          "data": {
            "text/plain": [
              "Text(0.5, 1.0, 'A single plot')"
            ]
          },
          "metadata": {
            "tags": []
          },
          "execution_count": 207
        },
        {
          "output_type": "display_data",
          "data": {
            "image/png": "[encoded data removed]",
            "text/plain": [
              "<Figure size 432x288 with 1 Axes>"
            ]
          },
          "metadata": {
            "tags": [],
            "needs_background": "light"
          }
        }
      ]
    },
    {
      "cell_type": "code",
      "metadata": {
        "colab": {
          "base_uri": "https://localhost:8080/",
          "height": 282
        },
        "id": "ySmDl6CmMtWM",
        "outputId": "e6fb05d3-2a4f-408b-ce43-b1d6d0502400"
      },
      "source": [
        "fig, axs=plt.subplots(2)\r\n",
        "ax.set_title('Vertically stacked subplot')\r\n",
        "axs[0].plot(x,y)\r\n",
        "axs[1].plot(x, -y)"
      ],
      "execution_count": null,
      "outputs": [
        {
          "output_type": "execute_result",
          "data": {
            "text/plain": [
              "[<matplotlib.lines.Line2D at 0x7fbd590ccfd0>]"
            ]
          },
          "metadata": {
            "tags": []
          },
          "execution_count": 209
        },
        {
          "output_type": "display_data",
          "data": {
            "image/png": "[encoded data removed]",
            "text/plain": [
              "<Figure size 432x288 with 2 Axes>"
            ]
          },
          "metadata": {
            "tags": [],
            "needs_background": "light"
          }
        }
      ]
    },
    {
      "cell_type": "code",
      "metadata": {
        "colab": {
          "base_uri": "https://localhost:8080/",
          "height": 164
        },
        "id": "10d580LPNChs",
        "outputId": "18c7c6a7-b8e9-4fbf-ca5d-74fc839d9b0f"
      },
      "source": [
        "plt.subplot(2,1,1)\r\n",
        "plt.plot(x,y,'o ')\r\n",
        "plt.ylabel('Chart 1')"
      ],
      "execution_count": null,
      "outputs": [
        {
          "output_type": "execute_result",
          "data": {
            "text/plain": [
              "Text(0, 0.5, 'Chart 1')"
            ]
          },
          "metadata": {
            "tags": []
          },
          "execution_count": 210
        },
        {
          "output_type": "display_data",
          "data": {
            "image/png": "[encoded data removed]",
            "text/plain": [
              "<Figure size 432x288 with 1 Axes>"
            ]
          },
          "metadata": {
            "tags": [],
            "needs_background": "light"
          }
        }
      ]
    },
    {
      "cell_type": "code",
      "metadata": {
        "colab": {
          "base_uri": "https://localhost:8080/",
          "height": 311
        },
        "id": "fWf3y9GsNnp7",
        "outputId": "84a4d8ea-e0e2-4043-e1c1-5204dc7b89ad"
      },
      "source": [
        "fig, (ax1, ax2) = plt.subplots(2)\r\n",
        "fig.suptitle(\"Vertically stacked subplots\")\r\n",
        "ax1.plot(x, y)\r\n",
        "ax2.plot(x, -y)"
      ],
      "execution_count": null,
      "outputs": [
        {
          "output_type": "execute_result",
          "data": {
            "text/plain": [
              "[<matplotlib.lines.Line2D at 0x7fbd58fee5f8>]"
            ]
          },
          "metadata": {
            "tags": []
          },
          "execution_count": 214
        },
        {
          "output_type": "display_data",
          "data": {
            "image/png": "[encoded data removed]",
            "text/plain": [
              "<Figure size 432x288 with 2 Axes>"
            ]
          },
          "metadata": {
            "tags": [],
            "needs_background": "light"
          }
        }
      ]
    },
    {
      "cell_type": "code",
      "metadata": {
        "colab": {
          "base_uri": "https://localhost:8080/",
          "height": 311
        },
        "id": "dyOBU35gN-Sy",
        "outputId": "13a0f375-ac42-4100-89f3-39c0e1dd300f"
      },
      "source": [
        "fig, (ax1, ax2) = plt.subplots(1,2)\r\n",
        "fig.suptitle(\"Horizontally stacked subplots\")\r\n",
        "ax1.plot(x, y)\r\n",
        "ax2.plot(x, -y)"
      ],
      "execution_count": null,
      "outputs": [
        {
          "output_type": "execute_result",
          "data": {
            "text/plain": [
              "[<matplotlib.lines.Line2D at 0x7fbd58c7d3c8>]"
            ]
          },
          "metadata": {
            "tags": []
          },
          "execution_count": 215
        },
        {
          "output_type": "display_data",
          "data": {
            "image/png": "[encoded data removed]",
            "text/plain": [
              "<Figure size 432x288 with 2 Axes>"
            ]
          },
          "metadata": {
            "tags": [],
            "needs_background": "light"
          }
        }
      ]
    },
    {
      "cell_type": "code",
      "metadata": {
        "colab": {
          "base_uri": "https://localhost:8080/",
          "height": 295
        },
        "id": "XAwsB83aOHVz",
        "outputId": "fcad4d8a-392d-465e-ff59-51e291dedcc1"
      },
      "source": [
        "fig, axs = plt.subplots(2, 2)\r\n",
        "axs[0,0].plot(x, y)\r\n",
        "axs[0,0].set_title('Axis [0,0]')\r\n",
        "axs[0,1].plot(x, y, 'tab:orange')\r\n",
        "axs[0,1].set_title('Axis [0,1]')\r\n",
        "axs[1,0].plot(x, y, 'tab:green')\r\n",
        "axs[1,0].set_title('Axis [1,0]')\r\n",
        "axs[1,1].plot(x, y, 'tab:red')\r\n",
        "axs[1,1].set_title('Axis [1,1]')\r\n",
        "\r\n",
        "for ax in axs.flat:\r\n",
        "  ax.set(xlabel='X-Label',ylabel='Y-Label')"
      ],
      "execution_count": null,
      "outputs": [
        {
          "output_type": "display_data",
          "data": {
            "image/png": "[encoded data removed]",
            "text/plain": [
              "<Figure size 432x288 with 4 Axes>"
            ]
          },
          "metadata": {
            "tags": [],
            "needs_background": "light"
          }
        }
      ]
    },
    {
      "cell_type": "code",
      "metadata": {
        "colab": {
          "base_uri": "https://localhost:8080/",
          "height": 311
        },
        "id": "QXrjN6UqPAIl",
        "outputId": "aaef2c75-96f5-44fc-9ba6-015e2914e79f"
      },
      "source": [
        "#Hide x labels and tick labels for top plots and y ticks for right plots.\r\n",
        "for ax in axs.flat:\r\n",
        "  ax.label_outer()\r\n",
        "\r\n",
        "#\r\n",
        "fig, ((ax1, ax2), (ax3, ax4)) = plt.subplots(2, 2)\r\n",
        "fig.suptitle(\"Sharing x per column, y per row\")\r\n",
        "ax1.plot(x, y)\r\n",
        "ax2.plot(x, y**2, 'tab:orange')\r\n",
        "ax3.plot(x, -y, 'tab:green')\r\n",
        "ax4.plot(x, -y**2, 'tab:red')"
      ],
      "execution_count": null,
      "outputs": [
        {
          "output_type": "execute_result",
          "data": {
            "text/plain": [
              "[<matplotlib.lines.Line2D at 0x7fbd58dd4198>]"
            ]
          },
          "metadata": {
            "tags": []
          },
          "execution_count": 218
        },
        {
          "output_type": "display_data",
          "data": {
            "image/png": "[encoded data removed]",
            "text/plain": [
              "<Figure size 432x288 with 4 Axes>"
            ]
          },
          "metadata": {
            "tags": [],
            "needs_background": "light"
          }
        }
      ]
    },
    {
      "cell_type": "code",
      "metadata": {
        "colab": {
          "base_uri": "https://localhost:8080/",
          "height": 835
        },
        "id": "QfNu9seyPyWb",
        "outputId": "a4c1e8a2-eba1-4fa0-df93-14eca6ae1e4c"
      },
      "source": [
        "data = {'apples':10, 'oranges':15, 'lemons':5, 'limes':20}\r\n",
        "names = list(data.keys())\r\n",
        "values = list(data.values())\r\n",
        "\r\n",
        "fig, axs = plt.subplots(1, 3, figsize=(9,3), sharey=True)\r\n",
        "axs[0].bar(names, values)\r\n",
        "axs[1].scatter(names, values)\r\n",
        "axs[2].plot(names, values)\r\n",
        "fig.suptitle('Categorical plotting')\r\n",
        "\r\n",
        "fig, axs = plt.subplots(1, 3, figsize=(3,9), sharex=True)\r\n",
        "axs[0].bar(names, values)\r\n",
        "axs[1].scatter(names, values)\r\n",
        "axs[2].plot(names, values)\r\n",
        "fig.suptitle('Categorical plotting')"
      ],
      "execution_count": null,
      "outputs": [
        {
          "output_type": "execute_result",
          "data": {
            "text/plain": [
              "Text(0.5, 0.98, 'Categorical plotting')"
            ]
          },
          "metadata": {
            "tags": []
          },
          "execution_count": 222
        },
        {
          "output_type": "display_data",
          "data": {
            "image/png": "[encoded data removed]",
            "text/plain": [
              "<Figure size 648x216 with 3 Axes>"
            ]
          },
          "metadata": {
            "tags": [],
            "needs_background": "light"
          }
        },
        {
          "output_type": "display_data",
          "data": {
            "image/png": "[encoded data removed]",
            "text/plain": [
              "<Figure size 216x648 with 3 Axes>"
            ]
          },
          "metadata": {
            "tags": [],
            "needs_background": "light"
          }
        }
      ]
    },
    {
      "cell_type": "code",
      "metadata": {
        "colab": {
          "base_uri": "https://localhost:8080/",
          "height": 297
        },
        "id": "zAbkELefRRtr",
        "outputId": "18316151-5545-4e66-83e3-23163cf31d7d"
      },
      "source": [
        "fig, axs = plt.subplots(ncols=3, nrows=3)\r\n",
        "gs=axs[1,2].get_gridspec()\r\n",
        "\r\n",
        "#remove the underlying axes\r\n",
        "for ax in axs[1:, -1]:\r\n",
        "  ax.remove()\r\n",
        "axbig=fig.add_subplot(gs[1:, -1])\r\n",
        "axbig.annotate('Big Axes', (0.1, 0.5),\r\n",
        "               xycoords='axes fraction', va='center')\r\n",
        "\r\n",
        "fig.tight_layout()\r\n",
        "\r\n",
        "plt.show()"
      ],
      "execution_count": null,
      "outputs": [
        {
          "output_type": "display_data",
          "data": {
            "image/png": "[encoded data removed]",
            "text/plain": [
              "<Figure size 432x288 with 8 Axes>"
            ]
          },
          "metadata": {
            "tags": [],
            "needs_background": "light"
          }
        }
      ]
    }
  ]
}